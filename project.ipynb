{
 "metadata": {
  "name": "",
  "signature": "sha256:68d299def9a5ed2e15ddfbdcc621688d85a64b5e86d115f5576f0ae7e6e879dd"
 },
 "nbformat": 3,
 "nbformat_minor": 0,
 "worksheets": [
  {
   "cells": [
    {
     "cell_type": "heading",
     "level": 1,
     "metadata": {},
     "source": [
      "The Twitter Bros"
     ]
    },
    {
     "cell_type": "heading",
     "level": 2,
     "metadata": {},
     "source": [
      "A project by David Herman, Aaron Pelz, and Nelson Yanes-Nunez."
     ]
    },
    {
     "cell_type": "markdown",
     "metadata": {},
     "source": [
      "** Motivation of the Project**: Twitter has revolutionized the way the world fundamentally communicates. With the click of a button, we are able to share stories, pictures, and ideas basically instantly. The benefits of this social networking platform have have reached astronomical levels, as it has proven to communicate disaster warnings in an unprecedented manner, especially when it comes to communicating earthquake warnings to nearby cities. It has also proven to be useful for tracking down wanted criminals, which has made our communities safer. Despite this site having such practical benefits, it also has benefits for the relatively self-centered. Everyone, to some extent, wants attention, acceptance, and fundamental popularity. Many social networking sites prize these qualities through Facebook \"likes\" or Tumblr \"notes,\" and Twitter is no exception. Having a trending tweet is what most users seek to accomplish. And this is where our project comes in.\n",
      "\n",
      "We wanted to find the perfect formula for determining whether a tweet would end up trending. So, understandably, the point of our project is to analyze what it is that makes a tweet from Twitter \"trendable\". We create a Machine Learning algorithm that analyzes which predictors are most important when it comes to determining how well a tweet 'trends'. Our conclusions and more interesting findings are presented below."
     ]
    },
    {
     "cell_type": "markdown",
     "metadata": {},
     "source": [
      "The following code gathers the data and implements exploratory analysis."
     ]
    },
    {
     "cell_type": "code",
     "collapsed": false,
     "input": [
      "# Import all the libraries!\n",
      "\n",
      "import numpy as np\n",
      "import scipy as sp\n",
      "import pandas as pd\n",
      "import sklearn\n",
      "import seaborn as sns\n",
      "from matplotlib import pyplot as plt\n",
      "%matplotlib inline\n",
      "\n",
      "import sklearn.cross_validation\n",
      "\n",
      "import tweepy\n",
      "import time"
     ],
     "language": "python",
     "metadata": {},
     "outputs": [
      {
       "ename": "ImportError",
       "evalue": "No module named tweepy",
       "output_type": "pyerr",
       "traceback": [
        "\u001b[0;31m---------------------------------------------------------------------------\u001b[0m\n\u001b[0;31mImportError\u001b[0m                               Traceback (most recent call last)",
        "\u001b[0;32m<ipython-input-1-8a84ef1dbbdc>\u001b[0m in \u001b[0;36m<module>\u001b[0;34m()\u001b[0m\n\u001b[1;32m     11\u001b[0m \u001b[0;32mimport\u001b[0m \u001b[0msklearn\u001b[0m\u001b[0;34m.\u001b[0m\u001b[0mcross_validation\u001b[0m\u001b[0;34m\u001b[0m\u001b[0m\n\u001b[1;32m     12\u001b[0m \u001b[0;34m\u001b[0m\u001b[0m\n\u001b[0;32m---> 13\u001b[0;31m \u001b[0;32mimport\u001b[0m \u001b[0mtweepy\u001b[0m\u001b[0;34m\u001b[0m\u001b[0m\n\u001b[0m\u001b[1;32m     14\u001b[0m \u001b[0;32mimport\u001b[0m \u001b[0mtime\u001b[0m\u001b[0;34m\u001b[0m\u001b[0m\n",
        "\u001b[0;31mImportError\u001b[0m: No module named tweepy"
       ]
      }
     ],
     "prompt_number": 1
    },
    {
     "cell_type": "code",
     "collapsed": false,
     "input": [
      "# Import and set up Python Twitter\n",
      "\n",
      "CONSUMER_KEY = 'ix1EKGIUrB7dQltqckEEBUwis'\n",
      "CONSUMER_SECRET = 'HDhhJ2DjWhl2hJDI6hOfAUCEhDNFXCmiy55kFc6wqmycxHjCCg'\n",
      "\n",
      "ACCESS_TOKEN = '139515937-INvkgxfUb0qLsH28JEMOsyqWK2PXnCwnzebnyG4G'\n",
      "ACCESS_TOKEN_SECRET = 'l5noxdWjNukj4mfa4BWPrVbGSZ6NEhiB6PaRHTvXetxkH'\n",
      "\n",
      "auth = tweepy.OAuthHandler(CONSUMER_KEY, CONSUMER_SECRET)\n",
      "auth.set_access_token(ACCESS_TOKEN, ACCESS_TOKEN_SECRET)\n",
      "\n",
      "api = tweepy.API(auth)"
     ],
     "language": "python",
     "metadata": {},
     "outputs": [],
     "prompt_number": 2
    },
    {
     "cell_type": "code",
     "collapsed": false,
     "input": [
      "# Demonstrate how to get user\n",
      "\n",
      "pachy_dherm = api.get_user('pachy_dherm')\n",
      "print pachy_dherm.screen_name\n",
      "print pachy_dherm.followers_count\n",
      "print pachy_dherm.friends_count"
     ],
     "language": "python",
     "metadata": {},
     "outputs": [
      {
       "output_type": "stream",
       "stream": "stdout",
       "text": [
        "pachy_dherm\n",
        "159\n",
        "150\n"
       ]
      }
     ],
     "prompt_number": 4
    },
    {
     "cell_type": "code",
     "collapsed": false,
     "input": [
      "# Demonstrate how to get followers for a user\n",
      "\n",
      "followers_ids = api.followers_ids('pachy_dherm')\n",
      "followers_ids = followers_ids[1:5] # first 5 followers\n",
      "followers = map(lambda x: api.get_user(x).screen_name, followers_ids) # get followers names as strings\n",
      "\n",
      "print followers"
     ],
     "language": "python",
     "metadata": {},
     "outputs": [
      {
       "output_type": "stream",
       "stream": "stdout",
       "text": [
        "[u'LoLoGramz', u'q_chainz69', u'mgdvs', u'shaunverma']\n"
       ]
      }
     ],
     "prompt_number": 5
    },
    {
     "cell_type": "code",
     "collapsed": false,
     "input": [
      "# Create tweet dataframe\n",
      "\n",
      "df = pd.DataFrame(columns=['id','screen_name','text','created_at',\n",
      "                             'favorite_count','retweet_count','lang','coordinates','is_retweet'])\n",
      "df"
     ],
     "language": "python",
     "metadata": {},
     "outputs": [
      {
       "html": [
        "<div style=\"max-height:1000px;max-width:1500px;overflow:auto;\">\n",
        "<table border=\"1\" class=\"dataframe\">\n",
        "  <thead>\n",
        "    <tr style=\"text-align: right;\">\n",
        "      <th></th>\n",
        "      <th>id</th>\n",
        "      <th>screen_name</th>\n",
        "      <th>text</th>\n",
        "      <th>created_at</th>\n",
        "      <th>favorite_count</th>\n",
        "      <th>retweet_count</th>\n",
        "      <th>lang</th>\n",
        "      <th>coordinates</th>\n",
        "      <th>is_retweet</th>\n",
        "    </tr>\n",
        "  </thead>\n",
        "  <tbody>\n",
        "  </tbody>\n",
        "</table>\n",
        "</div>"
       ],
       "metadata": {},
       "output_type": "pyout",
       "prompt_number": 6,
       "text": [
        "Empty DataFrame\n",
        "Columns: [id, screen_name, text, created_at, favorite_count, retweet_count, lang, coordinates, is_retweet]\n",
        "Index: []"
       ]
      }
     ],
     "prompt_number": 6
    },
    {
     "cell_type": "code",
     "collapsed": false,
     "input": [
      "# Define the csv writer for tweets and gather tweets from the Twitter search API\n",
      "\n",
      "import csv\n",
      "\n",
      "def csv_writer(data, path):\n",
      "    with open(path, 'a') as csv_file:\n",
      "        writer = csv.writer(csv_file, delimiter=',')\n",
      "        for i, item in enumerate(data):\n",
      "            if type(item) == unicode:\n",
      "                data[i] = item.encode('utf-8')        \n",
      "        writer.writerow(data)\n",
      "\n",
      "path = \"dirty_test.csv\"\n",
      "headers = ['tweet_id','screen_name','name','user_id','followers_count',\n",
      "           'favourites_count','prof_pic','default_profile','default_pic',\n",
      "           'description','text','created_at','favorite_count','retweet_count',\n",
      "           'lang','coordinates','is_retweet']\n",
      "    \n",
      "with open(path, \"wb\") as csv_file:\n",
      "    writer = csv.writer(csv_file, delimiter=',')\n",
      "    writer.writerow(headers)\n",
      "    \n",
      "tweets = tweepy.Cursor(api.search,\n",
      "                        q=[\"\"],\n",
      "                        since=\"2014-12-01\",\n",
      "                        until=\"2014-12-02\",\n",
      "                        lang=\"en\").items(300000)\n",
      "\n",
      "# Run the loop to wait when Twitter returns rate limiting errors\n",
      "counter = 0\n",
      "print time.time()\n",
      "while True:\n",
      "    try:\n",
      "        tweet = next(tweets)\n",
      "        if counter%5000 == 0:\n",
      "            print \"5,000 more done\"\n",
      "        counter = counter+1\n",
      "    except tweepy.TweepError as e:\n",
      "        print e\n",
      "        for i in range(16):\n",
      "            time.sleep(60)\n",
      "        #tweet = next(tweets)\n",
      "        #counter = counter+1\n",
      "\n",
      "    try:\n",
      "        tweet.retweeted_status\n",
      "        rt_status = True\n",
      "    except:\n",
      "        rt_status = False       \n",
      "\n",
      "    data = [tweet.id, tweet.user.screen_name, tweet.user.name,\n",
      "            tweet.user.id, tweet.user.followers_count,\n",
      "            tweet.user.favourites_count, tweet.user.profile_image_url,\n",
      "            tweet.user.default_profile, tweet.user.default_profile_image,\n",
      "            tweet.user.description, tweet.text ,tweet.created_at, tweet.favorite_count,\n",
      "            tweet.retweet_count, tweet.lang, tweet.coordinates, rt_status]\n",
      "    csv_writer(data,path)"
     ],
     "language": "python",
     "metadata": {},
     "outputs": [
      {
       "output_type": "stream",
       "stream": "stdout",
       "text": [
        "1417984600.76\n",
        "5,000 more done"
       ]
      },
      {
       "output_type": "stream",
       "stream": "stdout",
       "text": [
        "\n",
        "{\"errors\":[{\"message\":\"Rate limit exceeded\",\"code\":88}]}"
       ]
      },
      {
       "output_type": "stream",
       "stream": "stdout",
       "text": [
        "\n",
        "5,000 more done"
       ]
      },
      {
       "output_type": "stream",
       "stream": "stdout",
       "text": [
        "\n",
        "{\"errors\":[{\"message\":\"Rate limit exceeded\",\"code\":88}]}"
       ]
      },
      {
       "output_type": "stream",
       "stream": "stdout",
       "text": [
        "\n",
        "{\"errors\":[{\"message\":\"Rate limit exceeded\",\"code\":88}]}"
       ]
      },
      {
       "output_type": "stream",
       "stream": "stdout",
       "text": [
        "\n",
        "5,000 more done"
       ]
      },
      {
       "output_type": "stream",
       "stream": "stdout",
       "text": [
        "\n",
        "{\"errors\":[{\"message\":\"Rate limit exceeded\",\"code\":88}]}"
       ]
      },
      {
       "output_type": "stream",
       "stream": "stdout",
       "text": [
        "\n",
        "{\"errors\":[{\"message\":\"Rate limit exceeded\",\"code\":88}]}"
       ]
      },
      {
       "output_type": "stream",
       "stream": "stdout",
       "text": [
        "\n",
        "5,000 more done"
       ]
      },
      {
       "output_type": "stream",
       "stream": "stdout",
       "text": [
        "\n",
        "{\"errors\":[{\"message\":\"Rate limit exceeded\",\"code\":88}]}"
       ]
      },
      {
       "output_type": "stream",
       "stream": "stdout",
       "text": [
        "\n",
        "{\"errors\":[{\"message\":\"Rate limit exceeded\",\"code\":88}]}"
       ]
      },
      {
       "output_type": "stream",
       "stream": "stdout",
       "text": [
        "\n",
        "5,000 more done"
       ]
      },
      {
       "output_type": "stream",
       "stream": "stdout",
       "text": [
        "\n",
        "{\"errors\":[{\"message\":\"Rate limit exceeded\",\"code\":88}]}"
       ]
      },
      {
       "output_type": "stream",
       "stream": "stdout",
       "text": [
        "\n",
        "{\"errors\":[{\"message\":\"Rate limit exceeded\",\"code\":88}]}"
       ]
      },
      {
       "output_type": "stream",
       "stream": "stdout",
       "text": [
        "\n",
        "5,000 more done"
       ]
      },
      {
       "output_type": "stream",
       "stream": "stdout",
       "text": [
        "\n",
        "{\"errors\":[{\"message\":\"Rate limit exceeded\",\"code\":88}]}"
       ]
      },
      {
       "output_type": "stream",
       "stream": "stdout",
       "text": [
        "\n",
        "{\"errors\":[{\"message\":\"Rate limit exceeded\",\"code\":88}]}"
       ]
      },
      {
       "output_type": "stream",
       "stream": "stdout",
       "text": [
        "\n",
        "5,000 more done"
       ]
      },
      {
       "output_type": "stream",
       "stream": "stdout",
       "text": [
        "\n",
        "{\"errors\":[{\"message\":\"Rate limit exceeded\",\"code\":88}]}"
       ]
      },
      {
       "output_type": "stream",
       "stream": "stdout",
       "text": [
        "\n",
        "{\"errors\":[{\"message\":\"Rate limit exceeded\",\"code\":88}]}"
       ]
      },
      {
       "output_type": "stream",
       "stream": "stdout",
       "text": [
        "\n",
        "5,000 more done"
       ]
      },
      {
       "output_type": "stream",
       "stream": "stdout",
       "text": [
        "\n",
        "{\"errors\":[{\"message\":\"Rate limit exceeded\",\"code\":88}]}"
       ]
      },
      {
       "output_type": "stream",
       "stream": "stdout",
       "text": [
        "\n",
        "5,000 more done"
       ]
      },
      {
       "output_type": "stream",
       "stream": "stdout",
       "text": [
        "\n",
        "{\"errors\":[{\"message\":\"Rate limit exceeded\",\"code\":88}]}"
       ]
      },
      {
       "output_type": "stream",
       "stream": "stdout",
       "text": [
        "\n",
        "{\"errors\":[{\"message\":\"Rate limit exceeded\",\"code\":88}]}"
       ]
      },
      {
       "output_type": "stream",
       "stream": "stdout",
       "text": [
        "\n",
        "5,000 more done"
       ]
      },
      {
       "output_type": "stream",
       "stream": "stdout",
       "text": [
        "\n",
        "{\"errors\":[{\"message\":\"Rate limit exceeded\",\"code\":88}]}"
       ]
      },
      {
       "output_type": "stream",
       "stream": "stdout",
       "text": [
        "\n",
        "{\"errors\":[{\"message\":\"Rate limit exceeded\",\"code\":88}]}"
       ]
      },
      {
       "output_type": "stream",
       "stream": "stdout",
       "text": [
        "\n",
        "5,000 more done"
       ]
      },
      {
       "output_type": "stream",
       "stream": "stdout",
       "text": [
        "\n",
        "{\"errors\":[{\"message\":\"Rate limit exceeded\",\"code\":88}]}"
       ]
      },
      {
       "output_type": "stream",
       "stream": "stdout",
       "text": [
        "\n",
        "Failed to send request: ('Connection aborted.', error(54, 'Connection reset by peer'))"
       ]
      },
      {
       "output_type": "stream",
       "stream": "stdout",
       "text": [
        "\n",
        "{\"errors\":[{\"message\":\"Rate limit exceeded\",\"code\":88}]}"
       ]
      },
      {
       "output_type": "stream",
       "stream": "stdout",
       "text": [
        "\n",
        "5,000 more done"
       ]
      },
      {
       "output_type": "stream",
       "stream": "stdout",
       "text": [
        "\n",
        "{\"errors\":[{\"message\":\"Rate limit exceeded\",\"code\":88}]}"
       ]
      },
      {
       "output_type": "stream",
       "stream": "stdout",
       "text": [
        "\n",
        "{\"errors\":[{\"message\":\"Rate limit exceeded\",\"code\":88}]}"
       ]
      },
      {
       "output_type": "stream",
       "stream": "stdout",
       "text": [
        "\n",
        "5,000 more done"
       ]
      },
      {
       "output_type": "stream",
       "stream": "stdout",
       "text": [
        "\n",
        "{\"errors\":[{\"message\":\"Rate limit exceeded\",\"code\":88}]}"
       ]
      },
      {
       "output_type": "stream",
       "stream": "stdout",
       "text": [
        "\n",
        "{\"errors\":[{\"message\":\"Rate limit exceeded\",\"code\":88}]}"
       ]
      },
      {
       "output_type": "stream",
       "stream": "stdout",
       "text": [
        "\n",
        "5,000 more done"
       ]
      },
      {
       "output_type": "stream",
       "stream": "stdout",
       "text": [
        "\n",
        "{\"errors\":[{\"message\":\"Rate limit exceeded\",\"code\":88}]}"
       ]
      },
      {
       "output_type": "stream",
       "stream": "stdout",
       "text": [
        "\n",
        "{\"errors\":[{\"message\":\"Rate limit exceeded\",\"code\":88}]}"
       ]
      },
      {
       "output_type": "stream",
       "stream": "stdout",
       "text": [
        "\n",
        "5,000 more done"
       ]
      },
      {
       "output_type": "stream",
       "stream": "stdout",
       "text": [
        "\n",
        "{\"errors\":[{\"message\":\"Rate limit exceeded\",\"code\":88}]}"
       ]
      },
      {
       "output_type": "stream",
       "stream": "stdout",
       "text": [
        "\n",
        "5,000 more done"
       ]
      },
      {
       "output_type": "stream",
       "stream": "stdout",
       "text": [
        "\n",
        "{\"errors\":[{\"message\":\"Rate limit exceeded\",\"code\":88}]}"
       ]
      },
      {
       "output_type": "stream",
       "stream": "stdout",
       "text": [
        "\n",
        "{\"errors\":[{\"message\":\"Rate limit exceeded\",\"code\":88}]}"
       ]
      },
      {
       "output_type": "stream",
       "stream": "stdout",
       "text": [
        "\n",
        "5,000 more done"
       ]
      },
      {
       "output_type": "stream",
       "stream": "stdout",
       "text": [
        "\n",
        "{\"errors\":[{\"message\":\"Rate limit exceeded\",\"code\":88}]}"
       ]
      },
      {
       "output_type": "stream",
       "stream": "stdout",
       "text": [
        "\n",
        "{\"errors\":[{\"message\":\"Rate limit exceeded\",\"code\":88}]}"
       ]
      },
      {
       "output_type": "stream",
       "stream": "stdout",
       "text": [
        "\n",
        "5,000 more done"
       ]
      },
      {
       "output_type": "stream",
       "stream": "stdout",
       "text": [
        "\n",
        "{\"errors\":[{\"message\":\"Rate limit exceeded\",\"code\":88}]}"
       ]
      },
      {
       "output_type": "stream",
       "stream": "stdout",
       "text": [
        "\n",
        "{\"errors\":[{\"message\":\"Rate limit exceeded\",\"code\":88}]}"
       ]
      },
      {
       "output_type": "stream",
       "stream": "stdout",
       "text": [
        "\n",
        "5,000 more done"
       ]
      },
      {
       "output_type": "stream",
       "stream": "stdout",
       "text": [
        "\n",
        "{\"errors\":[{\"message\":\"Rate limit exceeded\",\"code\":88}]}"
       ]
      },
      {
       "output_type": "stream",
       "stream": "stdout",
       "text": [
        "\n",
        "{\"errors\":[{\"message\":\"Rate limit exceeded\",\"code\":88}]}"
       ]
      },
      {
       "output_type": "stream",
       "stream": "stdout",
       "text": [
        "\n",
        "5,000 more done"
       ]
      },
      {
       "output_type": "stream",
       "stream": "stdout",
       "text": [
        "\n",
        "{\"errors\":[{\"message\":\"Rate limit exceeded\",\"code\":88}]}"
       ]
      },
      {
       "output_type": "stream",
       "stream": "stdout",
       "text": [
        "\n",
        "{\"errors\":[{\"message\":\"Rate limit exceeded\",\"code\":88}]}"
       ]
      },
      {
       "output_type": "stream",
       "stream": "stdout",
       "text": [
        "\n",
        "5,000 more done"
       ]
      },
      {
       "output_type": "stream",
       "stream": "stdout",
       "text": [
        "\n",
        "{\"errors\":[{\"message\":\"Rate limit exceeded\",\"code\":88}]}"
       ]
      },
      {
       "output_type": "stream",
       "stream": "stdout",
       "text": [
        "\n",
        "5,000 more done"
       ]
      },
      {
       "output_type": "stream",
       "stream": "stdout",
       "text": [
        "\n",
        "{\"errors\":[{\"message\":\"Rate limit exceeded\",\"code\":88}]}"
       ]
      },
      {
       "output_type": "stream",
       "stream": "stdout",
       "text": [
        "\n",
        "{\"errors\":[{\"message\":\"Rate limit exceeded\",\"code\":88}]}"
       ]
      },
      {
       "output_type": "stream",
       "stream": "stdout",
       "text": [
        "\n",
        "5,000 more done"
       ]
      },
      {
       "output_type": "stream",
       "stream": "stdout",
       "text": [
        "\n",
        "{\"errors\":[{\"message\":\"Rate limit exceeded\",\"code\":88}]}"
       ]
      },
      {
       "output_type": "stream",
       "stream": "stdout",
       "text": [
        "\n",
        "{\"errors\":[{\"message\":\"Rate limit exceeded\",\"code\":88}]}"
       ]
      },
      {
       "output_type": "stream",
       "stream": "stdout",
       "text": [
        "\n",
        "5,000 more done"
       ]
      },
      {
       "output_type": "stream",
       "stream": "stdout",
       "text": [
        "\n",
        "{\"errors\":[{\"message\":\"Rate limit exceeded\",\"code\":88}]}"
       ]
      },
      {
       "output_type": "stream",
       "stream": "stdout",
       "text": [
        "\n",
        "{\"errors\":[{\"message\":\"Rate limit exceeded\",\"code\":88}]}"
       ]
      },
      {
       "output_type": "stream",
       "stream": "stdout",
       "text": [
        "\n",
        "5,000 more done"
       ]
      },
      {
       "output_type": "stream",
       "stream": "stdout",
       "text": [
        "\n",
        "{\"errors\":[{\"message\":\"Rate limit exceeded\",\"code\":88}]}"
       ]
      },
      {
       "output_type": "stream",
       "stream": "stdout",
       "text": [
        "\n",
        "Failed to send request: ('Connection aborted.', error(54, 'Connection reset by peer'))"
       ]
      },
      {
       "output_type": "stream",
       "stream": "stdout",
       "text": [
        "\n",
        "{\"errors\":[{\"message\":\"Rate limit exceeded\",\"code\":88}]}"
       ]
      },
      {
       "output_type": "stream",
       "stream": "stdout",
       "text": [
        "\n",
        "5,000 more done"
       ]
      },
      {
       "output_type": "stream",
       "stream": "stdout",
       "text": [
        "\n",
        "{\"errors\":[{\"message\":\"Rate limit exceeded\",\"code\":88}]}"
       ]
      },
      {
       "output_type": "stream",
       "stream": "stdout",
       "text": [
        "\n",
        "{\"errors\":[{\"message\":\"Rate limit exceeded\",\"code\":88}]}"
       ]
      },
      {
       "output_type": "stream",
       "stream": "stdout",
       "text": [
        "\n",
        "5,000 more done"
       ]
      },
      {
       "output_type": "stream",
       "stream": "stdout",
       "text": [
        "\n",
        "{\"errors\":[{\"message\":\"Rate limit exceeded\",\"code\":88}]}"
       ]
      },
      {
       "output_type": "stream",
       "stream": "stdout",
       "text": [
        "\n",
        "{\"errors\":[{\"message\":\"Rate limit exceeded\",\"code\":88}]}"
       ]
      },
      {
       "output_type": "stream",
       "stream": "stdout",
       "text": [
        "\n",
        "5,000 more done"
       ]
      },
      {
       "output_type": "stream",
       "stream": "stdout",
       "text": [
        "\n",
        "{\"errors\":[{\"message\":\"Rate limit exceeded\",\"code\":88}]}"
       ]
      },
      {
       "output_type": "stream",
       "stream": "stdout",
       "text": [
        "\n",
        "5,000 more done"
       ]
      },
      {
       "output_type": "stream",
       "stream": "stdout",
       "text": [
        "\n",
        "{\"errors\":[{\"message\":\"Rate limit exceeded\",\"code\":88}]}"
       ]
      },
      {
       "output_type": "stream",
       "stream": "stdout",
       "text": [
        "\n",
        "{\"errors\":[{\"message\":\"Rate limit exceeded\",\"code\":88}]}"
       ]
      },
      {
       "output_type": "stream",
       "stream": "stdout",
       "text": [
        "\n",
        "Failed to send request: ('Connection aborted.', error(54, 'Connection reset by peer'))"
       ]
      },
      {
       "output_type": "stream",
       "stream": "stdout",
       "text": [
        "\n",
        "5,000 more done"
       ]
      },
      {
       "output_type": "stream",
       "stream": "stdout",
       "text": [
        "\n",
        "{\"errors\":[{\"message\":\"Rate limit exceeded\",\"code\":88}]}"
       ]
      },
      {
       "output_type": "stream",
       "stream": "stdout",
       "text": [
        "\n",
        "{\"errors\":[{\"message\":\"Rate limit exceeded\",\"code\":88}]}"
       ]
      },
      {
       "output_type": "stream",
       "stream": "stdout",
       "text": [
        "\n",
        "Failed to send request: ('Connection aborted.', error(54, 'Connection reset by peer'))"
       ]
      },
      {
       "output_type": "stream",
       "stream": "stdout",
       "text": [
        "\n",
        "5,000 more done"
       ]
      },
      {
       "output_type": "stream",
       "stream": "stdout",
       "text": [
        "\n",
        "{\"errors\":[{\"message\":\"Rate limit exceeded\",\"code\":88}]}"
       ]
      },
      {
       "output_type": "stream",
       "stream": "stdout",
       "text": [
        "\n",
        "{\"errors\":[{\"message\":\"Rate limit exceeded\",\"code\":88}]}"
       ]
      },
      {
       "output_type": "stream",
       "stream": "stdout",
       "text": [
        "\n",
        "5,000 more done"
       ]
      },
      {
       "output_type": "stream",
       "stream": "stdout",
       "text": [
        "\n",
        "{\"errors\":[{\"message\":\"Rate limit exceeded\",\"code\":88}]}"
       ]
      },
      {
       "output_type": "stream",
       "stream": "stdout",
       "text": [
        "\n",
        "{\"errors\":[{\"message\":\"Rate limit exceeded\",\"code\":88}]}"
       ]
      },
      {
       "output_type": "stream",
       "stream": "stdout",
       "text": [
        "\n",
        "5,000 more done"
       ]
      },
      {
       "output_type": "stream",
       "stream": "stdout",
       "text": [
        "\n",
        "{\"errors\":[{\"message\":\"Rate limit exceeded\",\"code\":88}]}"
       ]
      },
      {
       "output_type": "stream",
       "stream": "stdout",
       "text": [
        "\n",
        "{\"errors\":[{\"message\":\"Rate limit exceeded\",\"code\":88}]}"
       ]
      },
      {
       "output_type": "stream",
       "stream": "stdout",
       "text": [
        "\n",
        "5,000 more done"
       ]
      },
      {
       "output_type": "stream",
       "stream": "stdout",
       "text": [
        "\n",
        "{\"errors\":[{\"message\":\"Rate limit exceeded\",\"code\":88}]}"
       ]
      },
      {
       "output_type": "stream",
       "stream": "stdout",
       "text": [
        "\n",
        "{\"errors\":[{\"message\":\"Rate limit exceeded\",\"code\":88}]}"
       ]
      },
      {
       "output_type": "stream",
       "stream": "stdout",
       "text": [
        "\n",
        "5,000 more done"
       ]
      },
      {
       "output_type": "stream",
       "stream": "stdout",
       "text": [
        "\n",
        "{\"errors\":[{\"message\":\"Rate limit exceeded\",\"code\":88}]}"
       ]
      },
      {
       "output_type": "stream",
       "stream": "stdout",
       "text": [
        "\n",
        "5,000 more done"
       ]
      },
      {
       "output_type": "stream",
       "stream": "stdout",
       "text": [
        "\n",
        "{\"errors\":[{\"message\":\"Rate limit exceeded\",\"code\":88}]}"
       ]
      },
      {
       "output_type": "stream",
       "stream": "stdout",
       "text": [
        "\n",
        "{\"errors\":[{\"message\":\"Rate limit exceeded\",\"code\":88}]}"
       ]
      },
      {
       "output_type": "stream",
       "stream": "stdout",
       "text": [
        "\n",
        "5,000 more done"
       ]
      },
      {
       "output_type": "stream",
       "stream": "stdout",
       "text": [
        "\n",
        "{\"errors\":[{\"message\":\"Rate limit exceeded\",\"code\":88}]}"
       ]
      },
      {
       "output_type": "stream",
       "stream": "stdout",
       "text": [
        "\n",
        "{\"errors\":[{\"message\":\"Rate limit exceeded\",\"code\":88}]}"
       ]
      },
      {
       "output_type": "stream",
       "stream": "stdout",
       "text": [
        "\n",
        "5,000 more done"
       ]
      },
      {
       "output_type": "stream",
       "stream": "stdout",
       "text": [
        "\n",
        "{\"errors\":[{\"message\":\"Rate limit exceeded\",\"code\":88}]}"
       ]
      },
      {
       "output_type": "stream",
       "stream": "stdout",
       "text": [
        "\n",
        "{\"errors\":[{\"message\":\"Rate limit exceeded\",\"code\":88}]}"
       ]
      },
      {
       "output_type": "stream",
       "stream": "stdout",
       "text": [
        "\n",
        "5,000 more done"
       ]
      },
      {
       "output_type": "stream",
       "stream": "stdout",
       "text": [
        "\n",
        "{\"errors\":[{\"message\":\"Rate limit exceeded\",\"code\":88}]}"
       ]
      },
      {
       "output_type": "stream",
       "stream": "stdout",
       "text": [
        "\n",
        "{\"errors\":[{\"message\":\"Rate limit exceeded\",\"code\":88}]}"
       ]
      },
      {
       "output_type": "stream",
       "stream": "stdout",
       "text": [
        "\n",
        "5,000 more done"
       ]
      },
      {
       "output_type": "stream",
       "stream": "stdout",
       "text": [
        "\n",
        "{\"errors\":[{\"message\":\"Rate limit exceeded\",\"code\":88}]}"
       ]
      },
      {
       "output_type": "stream",
       "stream": "stdout",
       "text": [
        "\n",
        "{\"errors\":[{\"message\":\"Rate limit exceeded\",\"code\":88}]}"
       ]
      },
      {
       "output_type": "stream",
       "stream": "stdout",
       "text": [
        "\n",
        "5,000 more done"
       ]
      },
      {
       "output_type": "stream",
       "stream": "stdout",
       "text": [
        "\n",
        "{\"errors\":[{\"message\":\"Rate limit exceeded\",\"code\":88}]}"
       ]
      },
      {
       "output_type": "stream",
       "stream": "stdout",
       "text": [
        "\n"
       ]
      },
      {
       "ename": "KeyboardInterrupt",
       "evalue": "",
       "output_type": "pyerr",
       "traceback": [
        "\u001b[0;31m---------------------------------------------------------------------------\u001b[0m\n\u001b[0;31mKeyboardInterrupt\u001b[0m                         Traceback (most recent call last)",
        "\u001b[0;32m<ipython-input-45-65c189c21b87>\u001b[0m in \u001b[0;36m<module>\u001b[0;34m()\u001b[0m\n\u001b[1;32m     35\u001b[0m         \u001b[0;32mprint\u001b[0m \u001b[0me\u001b[0m\u001b[0;34m\u001b[0m\u001b[0m\n\u001b[1;32m     36\u001b[0m         \u001b[0;32mfor\u001b[0m \u001b[0mi\u001b[0m \u001b[0;32min\u001b[0m \u001b[0mrange\u001b[0m\u001b[0;34m(\u001b[0m\u001b[0;36m16\u001b[0m\u001b[0;34m)\u001b[0m\u001b[0;34m:\u001b[0m\u001b[0;34m\u001b[0m\u001b[0m\n\u001b[0;32m---> 37\u001b[0;31m             \u001b[0mtime\u001b[0m\u001b[0;34m.\u001b[0m\u001b[0msleep\u001b[0m\u001b[0;34m(\u001b[0m\u001b[0;36m60\u001b[0m\u001b[0;34m)\u001b[0m\u001b[0;34m\u001b[0m\u001b[0m\n\u001b[0m\u001b[1;32m     38\u001b[0m         \u001b[0;31m#tweet = next(tweets)\u001b[0m\u001b[0;34m\u001b[0m\u001b[0;34m\u001b[0m\u001b[0m\n\u001b[1;32m     39\u001b[0m         \u001b[0;31m#counter = counter+1\u001b[0m\u001b[0;34m\u001b[0m\u001b[0;34m\u001b[0m\u001b[0m\n",
        "\u001b[0;31mKeyboardInterrupt\u001b[0m: "
       ]
      }
     ],
     "prompt_number": 45
    },
    {
     "cell_type": "markdown",
     "metadata": {},
     "source": [
      "As you can see above, the problem with this approach is that you have to wait and abide by Twitter's rate limits.  As a workaround, our groupmembers and some friends signed up for individual API keys and then I reran the above code simultaneously, gathering tweets from different days.  As we will see later, beyond a day or two, the time of the tweet doesn't affect retweets (which indicates that the majority of twitter interactions occur immediately following the creation of a tweet).  Thus, we were able to analysis the larger dataset (about 300,000 tweets) in a similar way to the dataset created above (less than 200,000 tweets).  Because we created the larger dataset in a number of ipython notebooks running simultaneously, we decided not to copy all the code into this notebook (but it's the same loop as the one in the cell above)."
     ]
    },
    {
     "cell_type": "code",
     "collapsed": false,
     "input": [
      "# Read in the CSV as a pandas dataframe\n",
      "\n",
      "path = \"dirty_test.csv\"\n",
      "\n",
      "df = pd.DataFrame.from_csv(path)\n",
      "df = df.reset_index()\n",
      "df = df.drop_duplicates('tweet_id')\n",
      "df = df[df['lang'] == 'en']\n",
      "\n",
      "# check for success (make sure that we don't have duplicate tweets)\n",
      "print (len(df['tweet_id']) == len(df['tweet_id'].unique()))\n",
      "\n",
      "df.head()"
     ],
     "language": "python",
     "metadata": {},
     "outputs": [
      {
       "output_type": "stream",
       "stream": "stdout",
       "text": [
        "True\n"
       ]
      },
      {
       "html": [
        "<div style=\"max-height:1000px;max-width:1500px;overflow:auto;\">\n",
        "<table border=\"1\" class=\"dataframe\">\n",
        "  <thead>\n",
        "    <tr style=\"text-align: right;\">\n",
        "      <th></th>\n",
        "      <th>tweet_id</th>\n",
        "      <th>screen_name</th>\n",
        "      <th>name</th>\n",
        "      <th>user_id</th>\n",
        "      <th>followers_count</th>\n",
        "      <th>favourites_count</th>\n",
        "      <th>prof_pic</th>\n",
        "      <th>default_profile</th>\n",
        "      <th>default_pic</th>\n",
        "      <th>description</th>\n",
        "      <th>text</th>\n",
        "      <th>created_at</th>\n",
        "      <th>favorite_count</th>\n",
        "      <th>retweet_count</th>\n",
        "      <th>lang</th>\n",
        "      <th>coordinates</th>\n",
        "      <th>is_retweet</th>\n",
        "    </tr>\n",
        "  </thead>\n",
        "  <tbody>\n",
        "    <tr>\n",
        "      <th>0</th>\n",
        "      <td> 539569633482002433</td>\n",
        "      <td> MelissaTippie</td>\n",
        "      <td>    Melissa Tippie</td>\n",
        "      <td>  531757323</td>\n",
        "      <td> 10016</td>\n",
        "      <td> 11173</td>\n",
        "      <td> http://pbs.twimg.com/profile_images/2452528664...</td>\n",
        "      <td> False</td>\n",
        "      <td> False</td>\n",
        "      <td> #Follow ~ I #FollowBack! Twitter Parties/RT's!...</td>\n",
        "      <td> RT @UPS: It\u2019s Cyber Monday\u2013do you have UPS My ...</td>\n",
        "      <td> 2014-12-01 23:59:59</td>\n",
        "      <td> 0</td>\n",
        "      <td>    6</td>\n",
        "      <td> en</td>\n",
        "      <td> NaN</td>\n",
        "      <td>  True</td>\n",
        "    </tr>\n",
        "    <tr>\n",
        "      <th>1</th>\n",
        "      <td> 539569633481998337</td>\n",
        "      <td> MikaMartinezz</td>\n",
        "      <td>                 \u30c3</td>\n",
        "      <td>  715243520</td>\n",
        "      <td>   749</td>\n",
        "      <td> 14175</td>\n",
        "      <td> http://pbs.twimg.com/profile_images/5413675341...</td>\n",
        "      <td> False</td>\n",
        "      <td> False</td>\n",
        "      <td>                                               NaN</td>\n",
        "      <td> seeing someone with plans and ambitions is att...</td>\n",
        "      <td> 2014-12-01 23:59:59</td>\n",
        "      <td> 8</td>\n",
        "      <td>   24</td>\n",
        "      <td> en</td>\n",
        "      <td> NaN</td>\n",
        "      <td> False</td>\n",
        "    </tr>\n",
        "    <tr>\n",
        "      <th>2</th>\n",
        "      <td> 539569633481605120</td>\n",
        "      <td>  abbybawesome</td>\n",
        "      <td>      abbybawesome</td>\n",
        "      <td> 1730685884</td>\n",
        "      <td>   280</td>\n",
        "      <td>   197</td>\n",
        "      <td> http://pbs.twimg.com/profile_images/5236754954...</td>\n",
        "      <td>  True</td>\n",
        "      <td> False</td>\n",
        "      <td>                 follow my instagram @abbybawesome</td>\n",
        "      <td> RT @femalebook: my life in one paragraph\ud83d\ude4c htt...</td>\n",
        "      <td> 2014-12-01 23:59:59</td>\n",
        "      <td> 0</td>\n",
        "      <td> 3917</td>\n",
        "      <td> en</td>\n",
        "      <td> NaN</td>\n",
        "      <td>  True</td>\n",
        "    </tr>\n",
        "    <tr>\n",
        "      <th>3</th>\n",
        "      <td> 539569633481596928</td>\n",
        "      <td>  virtualglory</td>\n",
        "      <td>            Ri$$a.</td>\n",
        "      <td> 1877508686</td>\n",
        "      <td> 17161</td>\n",
        "      <td> 11669</td>\n",
        "      <td> http://pbs.twimg.com/profile_images/5406786238...</td>\n",
        "      <td> False</td>\n",
        "      <td> False</td>\n",
        "      <td>                                CA / I love alyssa</td>\n",
        "      <td>                    @hemms96 it took a week for me</td>\n",
        "      <td> 2014-12-01 23:59:59</td>\n",
        "      <td> 0</td>\n",
        "      <td>    0</td>\n",
        "      <td> en</td>\n",
        "      <td> NaN</td>\n",
        "      <td> False</td>\n",
        "    </tr>\n",
        "    <tr>\n",
        "      <th>4</th>\n",
        "      <td> 539569633477804032</td>\n",
        "      <td>      scatzipp</td>\n",
        "      <td> Human Santapede. </td>\n",
        "      <td> 1149517664</td>\n",
        "      <td>   271</td>\n",
        "      <td>  1504</td>\n",
        "      <td> http://pbs.twimg.com/profile_images/5315773580...</td>\n",
        "      <td> False</td>\n",
        "      <td> False</td>\n",
        "      <td>   I write. I make music. \u00af\\_(\u30c4)_/\u00af #bteass Focus.</td>\n",
        "      <td>             @eromadnonnahs yaaass, see you there!</td>\n",
        "      <td> 2014-12-01 23:59:59</td>\n",
        "      <td> 1</td>\n",
        "      <td>    0</td>\n",
        "      <td> en</td>\n",
        "      <td> NaN</td>\n",
        "      <td> False</td>\n",
        "    </tr>\n",
        "  </tbody>\n",
        "</table>\n",
        "</div>"
       ],
       "metadata": {},
       "output_type": "pyout",
       "prompt_number": 4,
       "text": [
        "             tweet_id    screen_name               name     user_id  \\\n",
        "0  539569633482002433  MelissaTippie     Melissa Tippie   531757323   \n",
        "1  539569633481998337  MikaMartinezz                  \u30c3   715243520   \n",
        "2  539569633481605120   abbybawesome       abbybawesome  1730685884   \n",
        "3  539569633481596928   virtualglory             Ri$$a.  1877508686   \n",
        "4  539569633477804032       scatzipp  Human Santapede.   1149517664   \n",
        "\n",
        "   followers_count  favourites_count  \\\n",
        "0            10016             11173   \n",
        "1              749             14175   \n",
        "2              280               197   \n",
        "3            17161             11669   \n",
        "4              271              1504   \n",
        "\n",
        "                                            prof_pic default_profile  \\\n",
        "0  http://pbs.twimg.com/profile_images/2452528664...           False   \n",
        "1  http://pbs.twimg.com/profile_images/5413675341...           False   \n",
        "2  http://pbs.twimg.com/profile_images/5236754954...            True   \n",
        "3  http://pbs.twimg.com/profile_images/5406786238...           False   \n",
        "4  http://pbs.twimg.com/profile_images/5315773580...           False   \n",
        "\n",
        "  default_pic                                        description  \\\n",
        "0       False  #Follow ~ I #FollowBack! Twitter Parties/RT's!...   \n",
        "1       False                                                NaN   \n",
        "2       False                  follow my instagram @abbybawesome   \n",
        "3       False                                 CA / I love alyssa   \n",
        "4       False    I write. I make music. \u00af\\_(\u30c4)_/\u00af #bteass Focus.   \n",
        "\n",
        "                                                text           created_at  \\\n",
        "0  RT @UPS: It\u2019s Cyber Monday\u2013do you have UPS My ...  2014-12-01 23:59:59   \n",
        "1  seeing someone with plans and ambitions is att...  2014-12-01 23:59:59   \n",
        "2  RT @femalebook: my life in one paragraph\ud83d\ude4c htt...  2014-12-01 23:59:59   \n",
        "3                     @hemms96 it took a week for me  2014-12-01 23:59:59   \n",
        "4              @eromadnonnahs yaaass, see you there!  2014-12-01 23:59:59   \n",
        "\n",
        "   favorite_count  retweet_count lang coordinates is_retweet  \n",
        "0               0              6   en         NaN       True  \n",
        "1               8             24   en         NaN      False  \n",
        "2               0           3917   en         NaN       True  \n",
        "3               0              0   en         NaN      False  \n",
        "4               1              0   en         NaN      False  "
       ]
      }
     ],
     "prompt_number": 4
    },
    {
     "cell_type": "markdown",
     "metadata": {},
     "source": [
      "We decided to only study original tweets.  The majority of the retweets we found were duplicates of both original tweets and each other.  Because there's no way of discerning whether a retweet is a retweet of a tweet or another retweet, there is no way of objectively comparing the level of engagement/interaction it represents.  There's also no way of telling whether interactions are based on inherent qualities of the tweets, or their status as a retweet.  Although studying retweets may be an interesting research question, it is not one we intended to or decided to undertake in this project."
     ]
    },
    {
     "cell_type": "code",
     "collapsed": false,
     "input": [
      "no_rt = df[df['is_retweet'] == False]\n",
      "no_rt = no_rt.reset_index(drop=True)\n",
      "no_rt.head()"
     ],
     "language": "python",
     "metadata": {},
     "outputs": [
      {
       "html": [
        "<div style=\"max-height:1000px;max-width:1500px;overflow:auto;\">\n",
        "<table border=\"1\" class=\"dataframe\">\n",
        "  <thead>\n",
        "    <tr style=\"text-align: right;\">\n",
        "      <th></th>\n",
        "      <th>tweet_id</th>\n",
        "      <th>screen_name</th>\n",
        "      <th>name</th>\n",
        "      <th>user_id</th>\n",
        "      <th>followers_count</th>\n",
        "      <th>favourites_count</th>\n",
        "      <th>prof_pic</th>\n",
        "      <th>default_profile</th>\n",
        "      <th>default_pic</th>\n",
        "      <th>description</th>\n",
        "      <th>...</th>\n",
        "      <th>favorite_count</th>\n",
        "      <th>retweet_count</th>\n",
        "      <th>lang</th>\n",
        "      <th>coordinates</th>\n",
        "      <th>is_retweet</th>\n",
        "      <th>has_link</th>\n",
        "      <th>is_reply</th>\n",
        "      <th>word_length</th>\n",
        "      <th>word_count</th>\n",
        "      <th>char_count</th>\n",
        "    </tr>\n",
        "  </thead>\n",
        "  <tbody>\n",
        "    <tr>\n",
        "      <th>0</th>\n",
        "      <td> 539569633481998337</td>\n",
        "      <td>  MikaMartinezz</td>\n",
        "      <td>                 \u30c3</td>\n",
        "      <td>  715243520</td>\n",
        "      <td>   749</td>\n",
        "      <td> 14175</td>\n",
        "      <td> http://pbs.twimg.com/profile_images/5413675341...</td>\n",
        "      <td> False</td>\n",
        "      <td> False</td>\n",
        "      <td>                                             NaN</td>\n",
        "      <td>...</td>\n",
        "      <td> 8</td>\n",
        "      <td> 24</td>\n",
        "      <td> en</td>\n",
        "      <td> NaN</td>\n",
        "      <td> False</td>\n",
        "      <td> False</td>\n",
        "      <td> False</td>\n",
        "      <td> 5.750000</td>\n",
        "      <td>  8</td>\n",
        "      <td> 53</td>\n",
        "    </tr>\n",
        "    <tr>\n",
        "      <th>1</th>\n",
        "      <td> 539569633481596928</td>\n",
        "      <td>   virtualglory</td>\n",
        "      <td>            Ri$$a.</td>\n",
        "      <td> 1877508686</td>\n",
        "      <td> 17161</td>\n",
        "      <td> 11669</td>\n",
        "      <td> http://pbs.twimg.com/profile_images/5406786238...</td>\n",
        "      <td> False</td>\n",
        "      <td> False</td>\n",
        "      <td>                              CA / I love alyssa</td>\n",
        "      <td>...</td>\n",
        "      <td> 0</td>\n",
        "      <td>  0</td>\n",
        "      <td> en</td>\n",
        "      <td> NaN</td>\n",
        "      <td> False</td>\n",
        "      <td> False</td>\n",
        "      <td>  True</td>\n",
        "      <td> 2.666667</td>\n",
        "      <td>  6</td>\n",
        "      <td> 30</td>\n",
        "    </tr>\n",
        "    <tr>\n",
        "      <th>2</th>\n",
        "      <td> 539569633477804032</td>\n",
        "      <td>       scatzipp</td>\n",
        "      <td> Human Santapede. </td>\n",
        "      <td> 1149517664</td>\n",
        "      <td>   271</td>\n",
        "      <td>  1504</td>\n",
        "      <td> http://pbs.twimg.com/profile_images/5315773580...</td>\n",
        "      <td> False</td>\n",
        "      <td> False</td>\n",
        "      <td> I write. I make music. \u00af\\_(\u30c4)_/\u00af #bteass Focus.</td>\n",
        "      <td>...</td>\n",
        "      <td> 1</td>\n",
        "      <td>  0</td>\n",
        "      <td> en</td>\n",
        "      <td> NaN</td>\n",
        "      <td> False</td>\n",
        "      <td> False</td>\n",
        "      <td>  True</td>\n",
        "      <td> 4.750000</td>\n",
        "      <td>  4</td>\n",
        "      <td> 37</td>\n",
        "    </tr>\n",
        "    <tr>\n",
        "      <th>3</th>\n",
        "      <td> 539569633473622016</td>\n",
        "      <td>   missdonnafox</td>\n",
        "      <td>         Donna Fox</td>\n",
        "      <td>  263805363</td>\n",
        "      <td>    82</td>\n",
        "      <td>   197</td>\n",
        "      <td> http://pbs.twimg.com/profile_images/3788000006...</td>\n",
        "      <td>  True</td>\n",
        "      <td> False</td>\n",
        "      <td>                                             NaN</td>\n",
        "      <td>...</td>\n",
        "      <td> 1</td>\n",
        "      <td>  1</td>\n",
        "      <td> en</td>\n",
        "      <td> NaN</td>\n",
        "      <td> False</td>\n",
        "      <td> False</td>\n",
        "      <td>  True</td>\n",
        "      <td> 4.384615</td>\n",
        "      <td> 13</td>\n",
        "      <td> 97</td>\n",
        "    </tr>\n",
        "    <tr>\n",
        "      <th>4</th>\n",
        "      <td> 539569633473605632</td>\n",
        "      <td> afterxmidnight</td>\n",
        "      <td>       ayo joaquim</td>\n",
        "      <td>  332501866</td>\n",
        "      <td>   808</td>\n",
        "      <td>  2289</td>\n",
        "      <td> http://pbs.twimg.com/profile_images/5416295331...</td>\n",
        "      <td> False</td>\n",
        "      <td> False</td>\n",
        "      <td>                      midnight, make me remember</td>\n",
        "      <td>...</td>\n",
        "      <td> 0</td>\n",
        "      <td>  0</td>\n",
        "      <td> en</td>\n",
        "      <td> NaN</td>\n",
        "      <td> False</td>\n",
        "      <td> False</td>\n",
        "      <td>  True</td>\n",
        "      <td> 2.250000</td>\n",
        "      <td>  4</td>\n",
        "      <td> 25</td>\n",
        "    </tr>\n",
        "  </tbody>\n",
        "</table>\n",
        "<p>5 rows \u00d7 22 columns</p>\n",
        "</div>"
       ],
       "metadata": {},
       "output_type": "pyout",
       "prompt_number": 4,
       "text": [
        "             tweet_id     screen_name               name     user_id  \\\n",
        "0  539569633481998337   MikaMartinezz                  \u30c3   715243520   \n",
        "1  539569633481596928    virtualglory             Ri$$a.  1877508686   \n",
        "2  539569633477804032        scatzipp  Human Santapede.   1149517664   \n",
        "3  539569633473622016    missdonnafox          Donna Fox   263805363   \n",
        "4  539569633473605632  afterxmidnight        ayo joaquim   332501866   \n",
        "\n",
        "  followers_count favourites_count  \\\n",
        "0             749            14175   \n",
        "1           17161            11669   \n",
        "2             271             1504   \n",
        "3              82              197   \n",
        "4             808             2289   \n",
        "\n",
        "                                            prof_pic default_profile  \\\n",
        "0  http://pbs.twimg.com/profile_images/5413675341...           False   \n",
        "1  http://pbs.twimg.com/profile_images/5406786238...           False   \n",
        "2  http://pbs.twimg.com/profile_images/5315773580...           False   \n",
        "3  http://pbs.twimg.com/profile_images/3788000006...            True   \n",
        "4  http://pbs.twimg.com/profile_images/5416295331...           False   \n",
        "\n",
        "  default_pic                                      description  \\\n",
        "0       False                                              NaN   \n",
        "1       False                               CA / I love alyssa   \n",
        "2       False  I write. I make music. \u00af\\_(\u30c4)_/\u00af #bteass Focus.   \n",
        "3       False                                              NaN   \n",
        "4       False                       midnight, make me remember   \n",
        "\n",
        "                        ...                        favorite_count  \\\n",
        "0                       ...                                     8   \n",
        "1                       ...                                     0   \n",
        "2                       ...                                     1   \n",
        "3                       ...                                     1   \n",
        "4                       ...                                     0   \n",
        "\n",
        "  retweet_count  lang  coordinates is_retweet has_link is_reply word_length  \\\n",
        "0            24    en          NaN      False    False    False    5.750000   \n",
        "1             0    en          NaN      False    False     True    2.666667   \n",
        "2             0    en          NaN      False    False     True    4.750000   \n",
        "3             1    en          NaN      False    False     True    4.384615   \n",
        "4             0    en          NaN      False    False     True    2.250000   \n",
        "\n",
        "  word_count  char_count  \n",
        "0          8          53  \n",
        "1          6          30  \n",
        "2          4          37  \n",
        "3         13          97  \n",
        "4          4          25  \n",
        "\n",
        "[5 rows x 22 columns]"
       ]
      }
     ],
     "prompt_number": 4
    },
    {
     "cell_type": "code",
     "collapsed": false,
     "input": [
      "# Clean all text data\n",
      "# Inspired by: http://www.analyticsvidhya.com/blog/2014/11/text-data-cleaning-steps-python/\n",
      "\n",
      "import HTMLParser\n",
      "\n",
      "html_parser = HTMLParser.HTMLParser()\n",
      "\n",
      "no_rt['text'] = no_rt['text'].apply(lambda x: x.decode(\"utf8\").encode('ascii','ignore'))\n",
      "\n",
      "no_rt['text'] = no_rt['text'].apply(lambda x: html_parser.unescape(x))"
     ],
     "language": "python",
     "metadata": {},
     "outputs": [],
     "prompt_number": 5
    },
    {
     "cell_type": "markdown",
     "metadata": {},
     "source": [
      "We wanted to study whether a tweet's status as a reply affected interactions.  We also wanted to study whether tweets containing hyperlinks generated more or fewer interactions:"
     ]
    },
    {
     "cell_type": "code",
     "collapsed": false,
     "input": [
      "import re\n",
      "\n",
      "# Code to check whether tweets are replies and whether they contain hyperlinks\n",
      "\n",
      "no_links = []\n",
      "has_link = []\n",
      "is_reply = []\n",
      "regex = re.compile('@')\n",
      "for i, item in enumerate(no_rt['text']):\n",
      "    if regex.match(item):\n",
      "        is_reply.append(True)\n",
      "    else:\n",
      "        is_reply.append(False)\n",
      "    place = item.find('http://')\n",
      "    if place > 0:\n",
      "        no_links.append(item[:place])\n",
      "        has_link.append(True)\n",
      "    else:\n",
      "        no_links.append(item)\n",
      "        has_link.append(False)\n",
      "\n",
      "no_rt['text'] = no_links\n",
      "no_rt['has_link'] = has_link\n",
      "no_rt['is_reply'] = is_reply\n",
      "\n",
      "no_rt.head()"
     ],
     "language": "python",
     "metadata": {},
     "outputs": [
      {
       "html": [
        "<div style=\"max-height:1000px;max-width:1500px;overflow:auto;\">\n",
        "<table border=\"1\" class=\"dataframe\">\n",
        "  <thead>\n",
        "    <tr style=\"text-align: right;\">\n",
        "      <th></th>\n",
        "      <th>tweet_id</th>\n",
        "      <th>screen_name</th>\n",
        "      <th>name</th>\n",
        "      <th>user_id</th>\n",
        "      <th>followers_count</th>\n",
        "      <th>favourites_count</th>\n",
        "      <th>prof_pic</th>\n",
        "      <th>default_profile</th>\n",
        "      <th>default_pic</th>\n",
        "      <th>description</th>\n",
        "      <th>...</th>\n",
        "      <th>favorite_count</th>\n",
        "      <th>retweet_count</th>\n",
        "      <th>lang</th>\n",
        "      <th>coordinates</th>\n",
        "      <th>is_retweet</th>\n",
        "      <th>has_link</th>\n",
        "      <th>is_reply</th>\n",
        "      <th>word_length</th>\n",
        "      <th>word_count</th>\n",
        "      <th>char_count</th>\n",
        "    </tr>\n",
        "  </thead>\n",
        "  <tbody>\n",
        "    <tr>\n",
        "      <th>0</th>\n",
        "      <td> 539569633481998337</td>\n",
        "      <td>  MikaMartinezz</td>\n",
        "      <td>                 \u30c3</td>\n",
        "      <td>  715243520</td>\n",
        "      <td>   749</td>\n",
        "      <td> 14175</td>\n",
        "      <td> http://pbs.twimg.com/profile_images/5413675341...</td>\n",
        "      <td> False</td>\n",
        "      <td> False</td>\n",
        "      <td>                                             NaN</td>\n",
        "      <td>...</td>\n",
        "      <td> 8</td>\n",
        "      <td> 24</td>\n",
        "      <td> en</td>\n",
        "      <td> NaN</td>\n",
        "      <td> False</td>\n",
        "      <td> False</td>\n",
        "      <td> False</td>\n",
        "      <td> 5.750000</td>\n",
        "      <td>  8</td>\n",
        "      <td> 53</td>\n",
        "    </tr>\n",
        "    <tr>\n",
        "      <th>1</th>\n",
        "      <td> 539569633481596928</td>\n",
        "      <td>   virtualglory</td>\n",
        "      <td>            Ri$$a.</td>\n",
        "      <td> 1877508686</td>\n",
        "      <td> 17161</td>\n",
        "      <td> 11669</td>\n",
        "      <td> http://pbs.twimg.com/profile_images/5406786238...</td>\n",
        "      <td> False</td>\n",
        "      <td> False</td>\n",
        "      <td>                              CA / I love alyssa</td>\n",
        "      <td>...</td>\n",
        "      <td> 0</td>\n",
        "      <td>  0</td>\n",
        "      <td> en</td>\n",
        "      <td> NaN</td>\n",
        "      <td> False</td>\n",
        "      <td> False</td>\n",
        "      <td>  True</td>\n",
        "      <td> 2.666667</td>\n",
        "      <td>  6</td>\n",
        "      <td> 30</td>\n",
        "    </tr>\n",
        "    <tr>\n",
        "      <th>2</th>\n",
        "      <td> 539569633477804032</td>\n",
        "      <td>       scatzipp</td>\n",
        "      <td> Human Santapede. </td>\n",
        "      <td> 1149517664</td>\n",
        "      <td>   271</td>\n",
        "      <td>  1504</td>\n",
        "      <td> http://pbs.twimg.com/profile_images/5315773580...</td>\n",
        "      <td> False</td>\n",
        "      <td> False</td>\n",
        "      <td> I write. I make music. \u00af\\_(\u30c4)_/\u00af #bteass Focus.</td>\n",
        "      <td>...</td>\n",
        "      <td> 1</td>\n",
        "      <td>  0</td>\n",
        "      <td> en</td>\n",
        "      <td> NaN</td>\n",
        "      <td> False</td>\n",
        "      <td> False</td>\n",
        "      <td>  True</td>\n",
        "      <td> 4.750000</td>\n",
        "      <td>  4</td>\n",
        "      <td> 37</td>\n",
        "    </tr>\n",
        "    <tr>\n",
        "      <th>3</th>\n",
        "      <td> 539569633473622016</td>\n",
        "      <td>   missdonnafox</td>\n",
        "      <td>         Donna Fox</td>\n",
        "      <td>  263805363</td>\n",
        "      <td>    82</td>\n",
        "      <td>   197</td>\n",
        "      <td> http://pbs.twimg.com/profile_images/3788000006...</td>\n",
        "      <td>  True</td>\n",
        "      <td> False</td>\n",
        "      <td>                                             NaN</td>\n",
        "      <td>...</td>\n",
        "      <td> 1</td>\n",
        "      <td>  1</td>\n",
        "      <td> en</td>\n",
        "      <td> NaN</td>\n",
        "      <td> False</td>\n",
        "      <td> False</td>\n",
        "      <td>  True</td>\n",
        "      <td> 4.384615</td>\n",
        "      <td> 13</td>\n",
        "      <td> 97</td>\n",
        "    </tr>\n",
        "    <tr>\n",
        "      <th>4</th>\n",
        "      <td> 539569633473605632</td>\n",
        "      <td> afterxmidnight</td>\n",
        "      <td>       ayo joaquim</td>\n",
        "      <td>  332501866</td>\n",
        "      <td>   808</td>\n",
        "      <td>  2289</td>\n",
        "      <td> http://pbs.twimg.com/profile_images/5416295331...</td>\n",
        "      <td> False</td>\n",
        "      <td> False</td>\n",
        "      <td>                      midnight, make me remember</td>\n",
        "      <td>...</td>\n",
        "      <td> 0</td>\n",
        "      <td>  0</td>\n",
        "      <td> en</td>\n",
        "      <td> NaN</td>\n",
        "      <td> False</td>\n",
        "      <td> False</td>\n",
        "      <td>  True</td>\n",
        "      <td> 2.250000</td>\n",
        "      <td>  4</td>\n",
        "      <td> 25</td>\n",
        "    </tr>\n",
        "  </tbody>\n",
        "</table>\n",
        "<p>5 rows \u00d7 22 columns</p>\n",
        "</div>"
       ],
       "metadata": {},
       "output_type": "pyout",
       "prompt_number": 6,
       "text": [
        "             tweet_id     screen_name               name     user_id  \\\n",
        "0  539569633481998337   MikaMartinezz                  \u30c3   715243520   \n",
        "1  539569633481596928    virtualglory             Ri$$a.  1877508686   \n",
        "2  539569633477804032        scatzipp  Human Santapede.   1149517664   \n",
        "3  539569633473622016    missdonnafox          Donna Fox   263805363   \n",
        "4  539569633473605632  afterxmidnight        ayo joaquim   332501866   \n",
        "\n",
        "  followers_count favourites_count  \\\n",
        "0             749            14175   \n",
        "1           17161            11669   \n",
        "2             271             1504   \n",
        "3              82              197   \n",
        "4             808             2289   \n",
        "\n",
        "                                            prof_pic default_profile  \\\n",
        "0  http://pbs.twimg.com/profile_images/5413675341...           False   \n",
        "1  http://pbs.twimg.com/profile_images/5406786238...           False   \n",
        "2  http://pbs.twimg.com/profile_images/5315773580...           False   \n",
        "3  http://pbs.twimg.com/profile_images/3788000006...            True   \n",
        "4  http://pbs.twimg.com/profile_images/5416295331...           False   \n",
        "\n",
        "  default_pic                                      description  \\\n",
        "0       False                                              NaN   \n",
        "1       False                               CA / I love alyssa   \n",
        "2       False  I write. I make music. \u00af\\_(\u30c4)_/\u00af #bteass Focus.   \n",
        "3       False                                              NaN   \n",
        "4       False                       midnight, make me remember   \n",
        "\n",
        "                        ...                        favorite_count  \\\n",
        "0                       ...                                     8   \n",
        "1                       ...                                     0   \n",
        "2                       ...                                     1   \n",
        "3                       ...                                     1   \n",
        "4                       ...                                     0   \n",
        "\n",
        "  retweet_count  lang  coordinates is_retweet has_link is_reply word_length  \\\n",
        "0            24    en          NaN      False    False    False    5.750000   \n",
        "1             0    en          NaN      False    False     True    2.666667   \n",
        "2             0    en          NaN      False    False     True    4.750000   \n",
        "3             1    en          NaN      False    False     True    4.384615   \n",
        "4             0    en          NaN      False    False     True    2.250000   \n",
        "\n",
        "  word_count  char_count  \n",
        "0          8          53  \n",
        "1          6          30  \n",
        "2          4          37  \n",
        "3         13          97  \n",
        "4          4          25  \n",
        "\n",
        "[5 rows x 22 columns]"
       ]
      }
     ],
     "prompt_number": 6
    },
    {
     "cell_type": "markdown",
     "metadata": {},
     "source": [
      "We wanted to study whether the word length, number of words, or overall length of tweets had an impact on interactions:"
     ]
    },
    {
     "cell_type": "code",
     "collapsed": false,
     "input": [
      "# Split the tweets into \"words\"\n",
      "def clean_and_split(string):\n",
      "    clean = re.sub(\"[^a-zA-Z0-9'@\\n\\.]\", ' ', string)\n",
      "    regex = re.compile('@')\n",
      "    splitted = [x for x in string.rsplit() if not regex.match(x)]\n",
      "    \n",
      "    return(splitted)\n",
      "\n",
      "# Check word length\n",
      "def word_length(string):\n",
      "    lengths = map(lambda x: len(x), clean_and_split(string))\n",
      "    \n",
      "    return(np.mean(lengths))\n",
      "\n",
      "# Check word count\n",
      "def word_count(string):    \n",
      "    return(len(clean_and_split(string)))\n",
      "\n",
      "# Check tweet length\n",
      "def char_count(string):\n",
      "    return len(string)"
     ],
     "language": "python",
     "metadata": {},
     "outputs": [],
     "prompt_number": 8
    },
    {
     "cell_type": "code",
     "collapsed": false,
     "input": [
      "no_rt['word_length'] = no_rt['text'].apply(word_length)\n",
      "no_rt['word_count'] = no_rt['text'].apply(word_count)\n",
      "no_rt['char_count'] = no_rt['text'].apply(char_count)\n",
      "no_rt.head()"
     ],
     "language": "python",
     "metadata": {},
     "outputs": [
      {
       "html": [
        "<div style=\"max-height:1000px;max-width:1500px;overflow:auto;\">\n",
        "<table border=\"1\" class=\"dataframe\">\n",
        "  <thead>\n",
        "    <tr style=\"text-align: right;\">\n",
        "      <th></th>\n",
        "      <th>tweet_id</th>\n",
        "      <th>screen_name</th>\n",
        "      <th>name</th>\n",
        "      <th>user_id</th>\n",
        "      <th>followers_count</th>\n",
        "      <th>favourites_count</th>\n",
        "      <th>prof_pic</th>\n",
        "      <th>default_profile</th>\n",
        "      <th>default_pic</th>\n",
        "      <th>description</th>\n",
        "      <th>...</th>\n",
        "      <th>favorite_count</th>\n",
        "      <th>retweet_count</th>\n",
        "      <th>lang</th>\n",
        "      <th>coordinates</th>\n",
        "      <th>is_retweet</th>\n",
        "      <th>has_link</th>\n",
        "      <th>is_reply</th>\n",
        "      <th>word_length</th>\n",
        "      <th>word_count</th>\n",
        "      <th>char_count</th>\n",
        "    </tr>\n",
        "  </thead>\n",
        "  <tbody>\n",
        "    <tr>\n",
        "      <th>0</th>\n",
        "      <td> 539569633481998337</td>\n",
        "      <td>  MikaMartinezz</td>\n",
        "      <td>                 \u30c3</td>\n",
        "      <td>  715243520</td>\n",
        "      <td>   749</td>\n",
        "      <td> 14175</td>\n",
        "      <td> http://pbs.twimg.com/profile_images/5413675341...</td>\n",
        "      <td> False</td>\n",
        "      <td> False</td>\n",
        "      <td>                                             NaN</td>\n",
        "      <td>...</td>\n",
        "      <td> 8</td>\n",
        "      <td> 24</td>\n",
        "      <td> en</td>\n",
        "      <td> NaN</td>\n",
        "      <td> False</td>\n",
        "      <td> False</td>\n",
        "      <td> False</td>\n",
        "      <td> 5.750000</td>\n",
        "      <td>  8</td>\n",
        "      <td> 53</td>\n",
        "    </tr>\n",
        "    <tr>\n",
        "      <th>1</th>\n",
        "      <td> 539569633481596928</td>\n",
        "      <td>   virtualglory</td>\n",
        "      <td>            Ri$$a.</td>\n",
        "      <td> 1877508686</td>\n",
        "      <td> 17161</td>\n",
        "      <td> 11669</td>\n",
        "      <td> http://pbs.twimg.com/profile_images/5406786238...</td>\n",
        "      <td> False</td>\n",
        "      <td> False</td>\n",
        "      <td>                              CA / I love alyssa</td>\n",
        "      <td>...</td>\n",
        "      <td> 0</td>\n",
        "      <td>  0</td>\n",
        "      <td> en</td>\n",
        "      <td> NaN</td>\n",
        "      <td> False</td>\n",
        "      <td> False</td>\n",
        "      <td>  True</td>\n",
        "      <td> 2.666667</td>\n",
        "      <td>  6</td>\n",
        "      <td> 30</td>\n",
        "    </tr>\n",
        "    <tr>\n",
        "      <th>2</th>\n",
        "      <td> 539569633477804032</td>\n",
        "      <td>       scatzipp</td>\n",
        "      <td> Human Santapede. </td>\n",
        "      <td> 1149517664</td>\n",
        "      <td>   271</td>\n",
        "      <td>  1504</td>\n",
        "      <td> http://pbs.twimg.com/profile_images/5315773580...</td>\n",
        "      <td> False</td>\n",
        "      <td> False</td>\n",
        "      <td> I write. I make music. \u00af\\_(\u30c4)_/\u00af #bteass Focus.</td>\n",
        "      <td>...</td>\n",
        "      <td> 1</td>\n",
        "      <td>  0</td>\n",
        "      <td> en</td>\n",
        "      <td> NaN</td>\n",
        "      <td> False</td>\n",
        "      <td> False</td>\n",
        "      <td>  True</td>\n",
        "      <td> 4.750000</td>\n",
        "      <td>  4</td>\n",
        "      <td> 37</td>\n",
        "    </tr>\n",
        "    <tr>\n",
        "      <th>3</th>\n",
        "      <td> 539569633473622016</td>\n",
        "      <td>   missdonnafox</td>\n",
        "      <td>         Donna Fox</td>\n",
        "      <td>  263805363</td>\n",
        "      <td>    82</td>\n",
        "      <td>   197</td>\n",
        "      <td> http://pbs.twimg.com/profile_images/3788000006...</td>\n",
        "      <td>  True</td>\n",
        "      <td> False</td>\n",
        "      <td>                                             NaN</td>\n",
        "      <td>...</td>\n",
        "      <td> 1</td>\n",
        "      <td>  1</td>\n",
        "      <td> en</td>\n",
        "      <td> NaN</td>\n",
        "      <td> False</td>\n",
        "      <td> False</td>\n",
        "      <td>  True</td>\n",
        "      <td> 4.384615</td>\n",
        "      <td> 13</td>\n",
        "      <td> 97</td>\n",
        "    </tr>\n",
        "    <tr>\n",
        "      <th>4</th>\n",
        "      <td> 539569633473605632</td>\n",
        "      <td> afterxmidnight</td>\n",
        "      <td>       ayo joaquim</td>\n",
        "      <td>  332501866</td>\n",
        "      <td>   808</td>\n",
        "      <td>  2289</td>\n",
        "      <td> http://pbs.twimg.com/profile_images/5416295331...</td>\n",
        "      <td> False</td>\n",
        "      <td> False</td>\n",
        "      <td>                      midnight, make me remember</td>\n",
        "      <td>...</td>\n",
        "      <td> 0</td>\n",
        "      <td>  0</td>\n",
        "      <td> en</td>\n",
        "      <td> NaN</td>\n",
        "      <td> False</td>\n",
        "      <td> False</td>\n",
        "      <td>  True</td>\n",
        "      <td> 2.250000</td>\n",
        "      <td>  4</td>\n",
        "      <td> 25</td>\n",
        "    </tr>\n",
        "  </tbody>\n",
        "</table>\n",
        "<p>5 rows \u00d7 22 columns</p>\n",
        "</div>"
       ],
       "metadata": {},
       "output_type": "pyout",
       "prompt_number": 10,
       "text": [
        "             tweet_id     screen_name               name     user_id  \\\n",
        "0  539569633481998337   MikaMartinezz                  \u30c3   715243520   \n",
        "1  539569633481596928    virtualglory             Ri$$a.  1877508686   \n",
        "2  539569633477804032        scatzipp  Human Santapede.   1149517664   \n",
        "3  539569633473622016    missdonnafox          Donna Fox   263805363   \n",
        "4  539569633473605632  afterxmidnight        ayo joaquim   332501866   \n",
        "\n",
        "  followers_count favourites_count  \\\n",
        "0             749            14175   \n",
        "1           17161            11669   \n",
        "2             271             1504   \n",
        "3              82              197   \n",
        "4             808             2289   \n",
        "\n",
        "                                            prof_pic default_profile  \\\n",
        "0  http://pbs.twimg.com/profile_images/5413675341...           False   \n",
        "1  http://pbs.twimg.com/profile_images/5406786238...           False   \n",
        "2  http://pbs.twimg.com/profile_images/5315773580...           False   \n",
        "3  http://pbs.twimg.com/profile_images/3788000006...            True   \n",
        "4  http://pbs.twimg.com/profile_images/5416295331...           False   \n",
        "\n",
        "  default_pic                                      description  \\\n",
        "0       False                                              NaN   \n",
        "1       False                               CA / I love alyssa   \n",
        "2       False  I write. I make music. \u00af\\_(\u30c4)_/\u00af #bteass Focus.   \n",
        "3       False                                              NaN   \n",
        "4       False                       midnight, make me remember   \n",
        "\n",
        "                        ...                        favorite_count  \\\n",
        "0                       ...                                     8   \n",
        "1                       ...                                     0   \n",
        "2                       ...                                     1   \n",
        "3                       ...                                     1   \n",
        "4                       ...                                     0   \n",
        "\n",
        "  retweet_count  lang  coordinates is_retweet has_link is_reply word_length  \\\n",
        "0            24    en          NaN      False    False    False    5.750000   \n",
        "1             0    en          NaN      False    False     True    2.666667   \n",
        "2             0    en          NaN      False    False     True    4.750000   \n",
        "3             1    en          NaN      False    False     True    4.384615   \n",
        "4             0    en          NaN      False    False     True    2.250000   \n",
        "\n",
        "  word_count  char_count  \n",
        "0          8          53  \n",
        "1          6          30  \n",
        "2          4          37  \n",
        "3         13          97  \n",
        "4          4          25  \n",
        "\n",
        "[5 rows x 22 columns]"
       ]
      }
     ],
     "prompt_number": 10
    },
    {
     "cell_type": "code",
     "collapsed": false,
     "input": [
      "# Export the cleaned dataset to a CSV doc\n",
      "\n",
      "new_path = 'smallest.csv'\n",
      "\n",
      "no_rt.to_csv(new_path,encoding='utf-8')"
     ],
     "language": "python",
     "metadata": {},
     "outputs": [],
     "prompt_number": 11
    },
    {
     "cell_type": "code",
     "collapsed": false,
     "input": [
      "# Import new dataset as dataframe (we initially did this in a separate notebook)\n",
      "\n",
      "# Drop the coordinates (mostly NaN), all remaining NaN's, and any remaining duplicate tweets\n",
      "# Note: this only shortened our data by ~10ish tweets\n",
      "df = pd.DataFrame.from_csv('smallest.csv').drop('coordinates',1).dropna(axis=0).drop_duplicates('tweet_id')\n",
      "df.head()"
     ],
     "language": "python",
     "metadata": {},
     "outputs": [
      {
       "html": [
        "<div style=\"max-height:1000px;max-width:1500px;overflow:auto;\">\n",
        "<table border=\"1\" class=\"dataframe\">\n",
        "  <thead>\n",
        "    <tr style=\"text-align: right;\">\n",
        "      <th></th>\n",
        "      <th>tweet_id</th>\n",
        "      <th>screen_name</th>\n",
        "      <th>name</th>\n",
        "      <th>user_id</th>\n",
        "      <th>followers_count</th>\n",
        "      <th>favourites_count</th>\n",
        "      <th>prof_pic</th>\n",
        "      <th>default_profile</th>\n",
        "      <th>default_pic</th>\n",
        "      <th>description</th>\n",
        "      <th>...</th>\n",
        "      <th>created_at</th>\n",
        "      <th>favorite_count</th>\n",
        "      <th>retweet_count</th>\n",
        "      <th>lang</th>\n",
        "      <th>is_retweet</th>\n",
        "      <th>has_link</th>\n",
        "      <th>is_reply</th>\n",
        "      <th>word_length</th>\n",
        "      <th>word_count</th>\n",
        "      <th>char_count</th>\n",
        "    </tr>\n",
        "  </thead>\n",
        "  <tbody>\n",
        "    <tr>\n",
        "      <th>1</th>\n",
        "      <td> 539569633481596928</td>\n",
        "      <td>   virtualglory</td>\n",
        "      <td>            Ri$$a.</td>\n",
        "      <td> 1877508686</td>\n",
        "      <td> 17161</td>\n",
        "      <td> 11669</td>\n",
        "      <td> http://pbs.twimg.com/profile_images/5406786238...</td>\n",
        "      <td> False</td>\n",
        "      <td> False</td>\n",
        "      <td>                                CA / I love alyssa</td>\n",
        "      <td>...</td>\n",
        "      <td> 2014-12-01 23:59:59</td>\n",
        "      <td> 0</td>\n",
        "      <td> 0</td>\n",
        "      <td> en</td>\n",
        "      <td> False</td>\n",
        "      <td> False</td>\n",
        "      <td> True</td>\n",
        "      <td> 2.666667</td>\n",
        "      <td>  6</td>\n",
        "      <td> 30</td>\n",
        "    </tr>\n",
        "    <tr>\n",
        "      <th>2</th>\n",
        "      <td> 539569633477804032</td>\n",
        "      <td>       scatzipp</td>\n",
        "      <td> Human Santapede. </td>\n",
        "      <td> 1149517664</td>\n",
        "      <td>   271</td>\n",
        "      <td>  1504</td>\n",
        "      <td> http://pbs.twimg.com/profile_images/5315773580...</td>\n",
        "      <td> False</td>\n",
        "      <td> False</td>\n",
        "      <td>   I write. I make music. \u00af\\_(\u30c4)_/\u00af #bteass Focus.</td>\n",
        "      <td>...</td>\n",
        "      <td> 2014-12-01 23:59:59</td>\n",
        "      <td> 1</td>\n",
        "      <td> 0</td>\n",
        "      <td> en</td>\n",
        "      <td> False</td>\n",
        "      <td> False</td>\n",
        "      <td> True</td>\n",
        "      <td> 4.750000</td>\n",
        "      <td>  4</td>\n",
        "      <td> 37</td>\n",
        "    </tr>\n",
        "    <tr>\n",
        "      <th>4</th>\n",
        "      <td> 539569633473605632</td>\n",
        "      <td> afterxmidnight</td>\n",
        "      <td>       ayo joaquim</td>\n",
        "      <td>  332501866</td>\n",
        "      <td>   808</td>\n",
        "      <td>  2289</td>\n",
        "      <td> http://pbs.twimg.com/profile_images/5416295331...</td>\n",
        "      <td> False</td>\n",
        "      <td> False</td>\n",
        "      <td>                        midnight, make me remember</td>\n",
        "      <td>...</td>\n",
        "      <td> 2014-12-01 23:59:59</td>\n",
        "      <td> 0</td>\n",
        "      <td> 0</td>\n",
        "      <td> en</td>\n",
        "      <td> False</td>\n",
        "      <td> False</td>\n",
        "      <td> True</td>\n",
        "      <td> 2.250000</td>\n",
        "      <td>  4</td>\n",
        "      <td> 25</td>\n",
        "    </tr>\n",
        "    <tr>\n",
        "      <th>5</th>\n",
        "      <td> 539569633473212416</td>\n",
        "      <td> litzi_alcantar</td>\n",
        "      <td>           lizjay\u2728</td>\n",
        "      <td> 1315601833</td>\n",
        "      <td>   637</td>\n",
        "      <td>  2074</td>\n",
        "      <td> http://pbs.twimg.com/profile_images/5373687829...</td>\n",
        "      <td>  True</td>\n",
        "      <td> False</td>\n",
        "      <td>                 California \u2764 Yoakum here I come..</td>\n",
        "      <td>...</td>\n",
        "      <td> 2014-12-01 23:59:59</td>\n",
        "      <td> 0</td>\n",
        "      <td> 0</td>\n",
        "      <td> en</td>\n",
        "      <td> False</td>\n",
        "      <td> False</td>\n",
        "      <td> True</td>\n",
        "      <td> 3.437500</td>\n",
        "      <td> 16</td>\n",
        "      <td> 80</td>\n",
        "    </tr>\n",
        "    <tr>\n",
        "      <th>6</th>\n",
        "      <td> 539569633469423616</td>\n",
        "      <td>        Monts94</td>\n",
        "      <td>     Joshua Knight</td>\n",
        "      <td>  384892656</td>\n",
        "      <td>   639</td>\n",
        "      <td>  4776</td>\n",
        "      <td> http://pbs.twimg.com/profile_images/5392306560...</td>\n",
        "      <td> False</td>\n",
        "      <td> False</td>\n",
        "      <td> Alcohol consuming enthusiast, flippy cup world...</td>\n",
        "      <td>...</td>\n",
        "      <td> 2014-12-01 23:59:59</td>\n",
        "      <td> 0</td>\n",
        "      <td> 0</td>\n",
        "      <td> en</td>\n",
        "      <td> False</td>\n",
        "      <td> False</td>\n",
        "      <td> True</td>\n",
        "      <td> 7.000000</td>\n",
        "      <td>  2</td>\n",
        "      <td> 29</td>\n",
        "    </tr>\n",
        "  </tbody>\n",
        "</table>\n",
        "<p>5 rows \u00d7 21 columns</p>\n",
        "</div>"
       ],
       "metadata": {},
       "output_type": "pyout",
       "prompt_number": 12,
       "text": [
        "             tweet_id     screen_name               name     user_id  \\\n",
        "1  539569633481596928    virtualglory             Ri$$a.  1877508686   \n",
        "2  539569633477804032        scatzipp  Human Santapede.   1149517664   \n",
        "4  539569633473605632  afterxmidnight        ayo joaquim   332501866   \n",
        "5  539569633473212416  litzi_alcantar            lizjay\u2728  1315601833   \n",
        "6  539569633469423616         Monts94      Joshua Knight   384892656   \n",
        "\n",
        "   followers_count  favourites_count  \\\n",
        "1            17161             11669   \n",
        "2              271              1504   \n",
        "4              808              2289   \n",
        "5              637              2074   \n",
        "6              639              4776   \n",
        "\n",
        "                                            prof_pic default_profile  \\\n",
        "1  http://pbs.twimg.com/profile_images/5406786238...           False   \n",
        "2  http://pbs.twimg.com/profile_images/5315773580...           False   \n",
        "4  http://pbs.twimg.com/profile_images/5416295331...           False   \n",
        "5  http://pbs.twimg.com/profile_images/5373687829...            True   \n",
        "6  http://pbs.twimg.com/profile_images/5392306560...           False   \n",
        "\n",
        "  default_pic                                        description  \\\n",
        "1       False                                 CA / I love alyssa   \n",
        "2       False    I write. I make music. \u00af\\_(\u30c4)_/\u00af #bteass Focus.   \n",
        "4       False                         midnight, make me remember   \n",
        "5       False                  California \u2764 Yoakum here I come..   \n",
        "6       False  Alcohol consuming enthusiast, flippy cup world...   \n",
        "\n",
        "                         ...                                   created_at  \\\n",
        "1                        ...                          2014-12-01 23:59:59   \n",
        "2                        ...                          2014-12-01 23:59:59   \n",
        "4                        ...                          2014-12-01 23:59:59   \n",
        "5                        ...                          2014-12-01 23:59:59   \n",
        "6                        ...                          2014-12-01 23:59:59   \n",
        "\n",
        "  favorite_count  retweet_count  lang is_retweet has_link is_reply  \\\n",
        "1              0              0    en      False    False     True   \n",
        "2              1              0    en      False    False     True   \n",
        "4              0              0    en      False    False     True   \n",
        "5              0              0    en      False    False     True   \n",
        "6              0              0    en      False    False     True   \n",
        "\n",
        "  word_length  word_count  char_count  \n",
        "1    2.666667           6          30  \n",
        "2    4.750000           4          37  \n",
        "4    2.250000           4          25  \n",
        "5    3.437500          16          80  \n",
        "6    7.000000           2          29  \n",
        "\n",
        "[5 rows x 21 columns]"
       ]
      }
     ],
     "prompt_number": 12
    },
    {
     "cell_type": "markdown",
     "metadata": {},
     "source": [
      "Initially, we tried using the Twitter Steaming API to gather data.  However, because the API is only in real time, we couldn't study retweets (i.e. we'd get data on a tweet the instant it was sent, but before other users had a chance to interact with it).  Although we conceivably could have gone back and checked the same tweets (by id #) after a set period of time, Twitter's Rate Limits make that approach practically unworkable.\n",
      "\n",
      "We've included the prior code (using the Streaming API) for reference, and to document our thought processes."
     ]
    },
    {
     "cell_type": "code",
     "collapsed": false,
     "input": [
      "# Deprecated\n",
      "\n",
      "# df = df[df.tweet_id.notnull()]\n",
      "# df = df.dropna(thresh=15)\n",
      "\n",
      "# for i, item in enumerate(df.index):\n",
      "#     if type(item) != str:\n",
      "#         print item\n",
      "        \n",
      "# for i, item in enumerate(df.tweet_id):\n",
      "#     if type(item) != str:\n",
      "#         print item\n",
      "\n",
      "# import re\n",
      "\n",
      "# regex = re.compile('539')\n",
      "# for i in df.tweet_id:\n",
      "#     if regex.match(i[0:3]) == None:\n",
      "#         print i\n",
      "#         df = df.drop(df.index[df.tweet_id == i])\n",
      "\n",
      "# for i in df.columns.values:\n",
      "#     lst = list(df[i])\n",
      "#     if all(isinstance(x,type(lst[0])) for x in lst) == False:\n",
      "#         print type(lst[0])\n",
      "#         print i"
     ],
     "language": "python",
     "metadata": {},
     "outputs": [],
     "prompt_number": 13
    },
    {
     "cell_type": "code",
     "collapsed": false,
     "input": [
      "# Check how long final dataset is, and whether there are duplicate tweets\n",
      "\n",
      "print len(df['tweet_id']) == len(df['tweet_id'].unique())\n",
      "print len(df)"
     ],
     "language": "python",
     "metadata": {},
     "outputs": [
      {
       "output_type": "stream",
       "stream": "stdout",
       "text": [
        "True\n",
        "109121\n"
       ]
      }
     ],
     "prompt_number": 14
    },
    {
     "cell_type": "code",
     "collapsed": false,
     "input": [
      "print df.columns.values"
     ],
     "language": "python",
     "metadata": {},
     "outputs": [
      {
       "output_type": "stream",
       "stream": "stdout",
       "text": [
        "['tweet_id' 'screen_name' 'name' 'user_id' 'followers_count'\n",
        " 'favourites_count' 'prof_pic' 'default_profile' 'default_pic'\n",
        " 'description' 'text' 'created_at' 'favorite_count' 'retweet_count' 'lang'\n",
        " 'is_retweet' 'has_link' 'is_reply' 'word_length' 'word_count' 'char_count']\n"
       ]
      }
     ],
     "prompt_number": 15
    },
    {
     "cell_type": "code",
     "collapsed": false,
     "input": [
      "# function to turn string representations of bools into bools\n",
      "\n",
      "def boolize(x):\n",
      "    if x == 'False':\n",
      "        return False\n",
      "    else:\n",
      "        return True"
     ],
     "language": "python",
     "metadata": {},
     "outputs": [],
     "prompt_number": 16
    },
    {
     "cell_type": "code",
     "collapsed": false,
     "input": [
      "# make sure all data is correct type\n",
      "\n",
      "df['tweet_id'] = df['tweet_id'].astype(long)\n",
      "df['screen_name'] = df['screen_name'].astype(str)\n",
      "df['name'] = df['name'].astype(str)\n",
      "df['user_id'] = df['user_id'].astype(int)\n",
      "df['followers'] = df['followers_count'].astype(int)\n",
      "df['favorites'] = df['favourites_count'].astype(int)\n",
      "\n",
      "df['favorite_count'] = df['favorite_count'].astype(float)\n",
      "df['retweet_count'] = df['retweet_count'].astype(float)\n",
      "\n",
      "# df['word_length'] = df['word_length'].astype(float)\n",
      "# df['word_count'] = df['word_count'].astype(int)\n",
      "# df['is_retweet'] = df['is_retweet'].astype(bool).astype(int)\n",
      "# df['has_link'] = df['has_link'].astype(bool).astype(int)\n",
      "# df['is_reply'] = df['is_reply'].astype(bool).astype(int)\n",
      "\n",
      "df['default_pic'] = df['default_pic'].map(boolize)\n",
      "df['interaction_rate'] = (df['retweet_count'] + df['favorite_count'])/(df['followers']+1)\n",
      "\n",
      "# make hash count metric\n",
      "\n",
      "hashes = []\n",
      "regex = re.compile('#')\n",
      "for item in df['text']:\n",
      "    hashes.append(len(regex.findall(item)))\n",
      "\n",
      "df['hash_count'] = hashes"
     ],
     "language": "python",
     "metadata": {},
     "outputs": [],
     "prompt_number": 17
    },
    {
     "cell_type": "code",
     "collapsed": false,
     "input": [
      "df.describe()"
     ],
     "language": "python",
     "metadata": {},
     "outputs": [
      {
       "html": [
        "<div style=\"max-height:1000px;max-width:1500px;overflow:auto;\">\n",
        "<table border=\"1\" class=\"dataframe\">\n",
        "  <thead>\n",
        "    <tr style=\"text-align: right;\">\n",
        "      <th></th>\n",
        "      <th>tweet_id</th>\n",
        "      <th>user_id</th>\n",
        "      <th>followers_count</th>\n",
        "      <th>favourites_count</th>\n",
        "      <th>default_profile</th>\n",
        "      <th>default_pic</th>\n",
        "      <th>favorite_count</th>\n",
        "      <th>retweet_count</th>\n",
        "      <th>is_retweet</th>\n",
        "      <th>has_link</th>\n",
        "      <th>is_reply</th>\n",
        "      <th>word_length</th>\n",
        "      <th>word_count</th>\n",
        "      <th>char_count</th>\n",
        "      <th>followers</th>\n",
        "      <th>favorites</th>\n",
        "      <th>interaction_rate</th>\n",
        "      <th>hash_count</th>\n",
        "    </tr>\n",
        "  </thead>\n",
        "  <tbody>\n",
        "    <tr>\n",
        "      <th>count</th>\n",
        "      <td> 1.091210e+05</td>\n",
        "      <td> 1.091210e+05</td>\n",
        "      <td>   109121.000000</td>\n",
        "      <td> 109121.000000</td>\n",
        "      <td>    109121</td>\n",
        "      <td> 109121</td>\n",
        "      <td> 109121.000000</td>\n",
        "      <td> 109121.000000</td>\n",
        "      <td> 109121</td>\n",
        "      <td> 109121</td>\n",
        "      <td>    109121</td>\n",
        "      <td> 109121.000000</td>\n",
        "      <td> 109121.000000</td>\n",
        "      <td> 109121.000000</td>\n",
        "      <td>   109121.000000</td>\n",
        "      <td> 109121.000000</td>\n",
        "      <td> 109121.000000</td>\n",
        "      <td> 109121.000000</td>\n",
        "    </tr>\n",
        "    <tr>\n",
        "      <th>mean</th>\n",
        "      <td>-3.352069e+13</td>\n",
        "      <td> 1.072848e+09</td>\n",
        "      <td>     3127.005553</td>\n",
        "      <td>   4513.192236</td>\n",
        "      <td>  0.313606</td>\n",
        "      <td>      1</td>\n",
        "      <td>      1.090908</td>\n",
        "      <td>      0.572337</td>\n",
        "      <td>      0</td>\n",
        "      <td>      0</td>\n",
        "      <td>  0.343811</td>\n",
        "      <td>      4.617139</td>\n",
        "      <td>      9.821327</td>\n",
        "      <td>     60.495459</td>\n",
        "      <td>     3127.005553</td>\n",
        "      <td>   4513.192236</td>\n",
        "      <td>      0.002707</td>\n",
        "      <td>      0.206010</td>\n",
        "    </tr>\n",
        "    <tr>\n",
        "      <th>std</th>\n",
        "      <td> 6.573584e+11</td>\n",
        "      <td> 9.789254e+08</td>\n",
        "      <td>    71702.590445</td>\n",
        "      <td>  11191.527314</td>\n",
        "      <td> 0.4639604</td>\n",
        "      <td>      0</td>\n",
        "      <td>     45.130270</td>\n",
        "      <td>     24.785678</td>\n",
        "      <td>      0</td>\n",
        "      <td>      0</td>\n",
        "      <td> 0.4749811</td>\n",
        "      <td>      1.704942</td>\n",
        "      <td>      6.297587</td>\n",
        "      <td>     34.798061</td>\n",
        "      <td>    71702.590445</td>\n",
        "      <td>  11191.527314</td>\n",
        "      <td>      0.023350</td>\n",
        "      <td>      0.752713</td>\n",
        "    </tr>\n",
        "    <tr>\n",
        "      <th>min</th>\n",
        "      <td> 5.395691e+17</td>\n",
        "      <td> 4.678000e+03</td>\n",
        "      <td>        0.000000</td>\n",
        "      <td>      0.000000</td>\n",
        "      <td>     False</td>\n",
        "      <td>   True</td>\n",
        "      <td>      0.000000</td>\n",
        "      <td>      0.000000</td>\n",
        "      <td>  False</td>\n",
        "      <td>  False</td>\n",
        "      <td>     False</td>\n",
        "      <td>      1.000000</td>\n",
        "      <td>      1.000000</td>\n",
        "      <td>      1.000000</td>\n",
        "      <td>        0.000000</td>\n",
        "      <td>      0.000000</td>\n",
        "      <td>      0.000000</td>\n",
        "      <td>      0.000000</td>\n",
        "    </tr>\n",
        "    <tr>\n",
        "      <th>25%</th>\n",
        "      <td> 5.395692e+17</td>\n",
        "      <td> 2.614111e+08</td>\n",
        "      <td>      213.000000</td>\n",
        "      <td>    167.000000</td>\n",
        "      <td>         0</td>\n",
        "      <td>      1</td>\n",
        "      <td>      0.000000</td>\n",
        "      <td>      0.000000</td>\n",
        "      <td>      0</td>\n",
        "      <td>      0</td>\n",
        "      <td>         0</td>\n",
        "      <td>      3.769231</td>\n",
        "      <td>      5.000000</td>\n",
        "      <td>     33.000000</td>\n",
        "      <td>      213.000000</td>\n",
        "      <td>    167.000000</td>\n",
        "      <td>      0.000000</td>\n",
        "      <td>      0.000000</td>\n",
        "    </tr>\n",
        "    <tr>\n",
        "      <th>50%</th>\n",
        "      <td> 5.395694e+17</td>\n",
        "      <td> 5.957694e+08</td>\n",
        "      <td>      491.000000</td>\n",
        "      <td>   1186.000000</td>\n",
        "      <td>         0</td>\n",
        "      <td>      1</td>\n",
        "      <td>      0.000000</td>\n",
        "      <td>      0.000000</td>\n",
        "      <td>      0</td>\n",
        "      <td>      0</td>\n",
        "      <td>         0</td>\n",
        "      <td>      4.333333</td>\n",
        "      <td>      8.000000</td>\n",
        "      <td>     52.000000</td>\n",
        "      <td>      491.000000</td>\n",
        "      <td>   1186.000000</td>\n",
        "      <td>      0.000000</td>\n",
        "      <td>      0.000000</td>\n",
        "    </tr>\n",
        "    <tr>\n",
        "      <th>75%</th>\n",
        "      <td> 5.395695e+17</td>\n",
        "      <td> 2.160986e+09</td>\n",
        "      <td>     1190.000000</td>\n",
        "      <td>   4505.000000</td>\n",
        "      <td>         1</td>\n",
        "      <td>      1</td>\n",
        "      <td>      1.000000</td>\n",
        "      <td>      0.000000</td>\n",
        "      <td>      0</td>\n",
        "      <td>      0</td>\n",
        "      <td>         1</td>\n",
        "      <td>      5.090909</td>\n",
        "      <td>     14.000000</td>\n",
        "      <td>     84.000000</td>\n",
        "      <td>     1190.000000</td>\n",
        "      <td>   4505.000000</td>\n",
        "      <td>      0.001107</td>\n",
        "      <td>      0.000000</td>\n",
        "    </tr>\n",
        "    <tr>\n",
        "      <th>max</th>\n",
        "      <td> 5.395696e+17</td>\n",
        "      <td> 2.916053e+09</td>\n",
        "      <td> 18597247.000000</td>\n",
        "      <td> 722469.000000</td>\n",
        "      <td>      True</td>\n",
        "      <td>   True</td>\n",
        "      <td>  10867.000000</td>\n",
        "      <td>   5002.000000</td>\n",
        "      <td>  False</td>\n",
        "      <td>  False</td>\n",
        "      <td>      True</td>\n",
        "      <td>    116.000000</td>\n",
        "      <td>     35.000000</td>\n",
        "      <td>    140.000000</td>\n",
        "      <td> 18597247.000000</td>\n",
        "      <td> 722469.000000</td>\n",
        "      <td>      3.000000</td>\n",
        "      <td>     18.000000</td>\n",
        "    </tr>\n",
        "  </tbody>\n",
        "</table>\n",
        "</div>"
       ],
       "metadata": {},
       "output_type": "pyout",
       "prompt_number": 18,
       "text": [
        "           tweet_id       user_id  followers_count  favourites_count  \\\n",
        "count  1.091210e+05  1.091210e+05    109121.000000     109121.000000   \n",
        "mean  -3.352069e+13  1.072848e+09      3127.005553       4513.192236   \n",
        "std    6.573584e+11  9.789254e+08     71702.590445      11191.527314   \n",
        "min    5.395691e+17  4.678000e+03         0.000000          0.000000   \n",
        "25%    5.395692e+17  2.614111e+08       213.000000        167.000000   \n",
        "50%    5.395694e+17  5.957694e+08       491.000000       1186.000000   \n",
        "75%    5.395695e+17  2.160986e+09      1190.000000       4505.000000   \n",
        "max    5.395696e+17  2.916053e+09  18597247.000000     722469.000000   \n",
        "\n",
        "      default_profile default_pic  favorite_count  retweet_count is_retweet  \\\n",
        "count          109121      109121   109121.000000  109121.000000     109121   \n",
        "mean         0.313606           1        1.090908       0.572337          0   \n",
        "std         0.4639604           0       45.130270      24.785678          0   \n",
        "min             False        True        0.000000       0.000000      False   \n",
        "25%                 0           1        0.000000       0.000000          0   \n",
        "50%                 0           1        0.000000       0.000000          0   \n",
        "75%                 1           1        1.000000       0.000000          0   \n",
        "max              True        True    10867.000000    5002.000000      False   \n",
        "\n",
        "      has_link   is_reply    word_length     word_count     char_count  \\\n",
        "count   109121     109121  109121.000000  109121.000000  109121.000000   \n",
        "mean         0   0.343811       4.617139       9.821327      60.495459   \n",
        "std          0  0.4749811       1.704942       6.297587      34.798061   \n",
        "min      False      False       1.000000       1.000000       1.000000   \n",
        "25%          0          0       3.769231       5.000000      33.000000   \n",
        "50%          0          0       4.333333       8.000000      52.000000   \n",
        "75%          0          1       5.090909      14.000000      84.000000   \n",
        "max      False       True     116.000000      35.000000     140.000000   \n",
        "\n",
        "             followers      favorites  interaction_rate     hash_count  \n",
        "count    109121.000000  109121.000000     109121.000000  109121.000000  \n",
        "mean       3127.005553    4513.192236          0.002707       0.206010  \n",
        "std       71702.590445   11191.527314          0.023350       0.752713  \n",
        "min           0.000000       0.000000          0.000000       0.000000  \n",
        "25%         213.000000     167.000000          0.000000       0.000000  \n",
        "50%         491.000000    1186.000000          0.000000       0.000000  \n",
        "75%        1190.000000    4505.000000          0.001107       0.000000  \n",
        "max    18597247.000000  722469.000000          3.000000      18.000000  "
       ]
      }
     ],
     "prompt_number": 18
    },
    {
     "cell_type": "code",
     "collapsed": false,
     "input": [
      "# create smaller dataframe with metrics we can use to measure things (we overcollected at the start)\n",
      "\n",
      "df.small = df[['followers','favorites','default_profile','default_pic','created_at',\n",
      "               'has_link','is_reply','word_length','word_count','hash_count',\n",
      "               'char_count','favorite_count','retweet_count','interaction_rate']]\n",
      "df.small['R+F'] = df.small.retweet_count + df.small.favorite_count"
     ],
     "language": "python",
     "metadata": {},
     "outputs": [],
     "prompt_number": 19
    },
    {
     "cell_type": "code",
     "collapsed": false,
     "input": [
      "df.small.describe()"
     ],
     "language": "python",
     "metadata": {},
     "outputs": [
      {
       "html": [
        "<div style=\"max-height:1000px;max-width:1500px;overflow:auto;\">\n",
        "<table border=\"1\" class=\"dataframe\">\n",
        "  <thead>\n",
        "    <tr style=\"text-align: right;\">\n",
        "      <th></th>\n",
        "      <th>followers</th>\n",
        "      <th>favorites</th>\n",
        "      <th>default_profile</th>\n",
        "      <th>default_pic</th>\n",
        "      <th>has_link</th>\n",
        "      <th>is_reply</th>\n",
        "      <th>word_length</th>\n",
        "      <th>word_count</th>\n",
        "      <th>hash_count</th>\n",
        "      <th>char_count</th>\n",
        "      <th>favorite_count</th>\n",
        "      <th>retweet_count</th>\n",
        "      <th>interaction_rate</th>\n",
        "      <th>R+F</th>\n",
        "    </tr>\n",
        "  </thead>\n",
        "  <tbody>\n",
        "    <tr>\n",
        "      <th>count</th>\n",
        "      <td>   109121.000000</td>\n",
        "      <td> 109121.000000</td>\n",
        "      <td>    109121</td>\n",
        "      <td> 109121</td>\n",
        "      <td> 109121</td>\n",
        "      <td>    109121</td>\n",
        "      <td> 109121.000000</td>\n",
        "      <td> 109121.000000</td>\n",
        "      <td> 109121.000000</td>\n",
        "      <td> 109121.000000</td>\n",
        "      <td> 109121.000000</td>\n",
        "      <td> 109121.000000</td>\n",
        "      <td> 109121.000000</td>\n",
        "      <td> 109121.000000</td>\n",
        "    </tr>\n",
        "    <tr>\n",
        "      <th>mean</th>\n",
        "      <td>     3127.005553</td>\n",
        "      <td>   4513.192236</td>\n",
        "      <td>  0.313606</td>\n",
        "      <td>      1</td>\n",
        "      <td>      0</td>\n",
        "      <td>  0.343811</td>\n",
        "      <td>      4.617139</td>\n",
        "      <td>      9.821327</td>\n",
        "      <td>      0.206010</td>\n",
        "      <td>     60.495459</td>\n",
        "      <td>      1.090908</td>\n",
        "      <td>      0.572337</td>\n",
        "      <td>      0.002707</td>\n",
        "      <td>      1.663245</td>\n",
        "    </tr>\n",
        "    <tr>\n",
        "      <th>std</th>\n",
        "      <td>    71702.590445</td>\n",
        "      <td>  11191.527314</td>\n",
        "      <td> 0.4639604</td>\n",
        "      <td>      0</td>\n",
        "      <td>      0</td>\n",
        "      <td> 0.4749811</td>\n",
        "      <td>      1.704942</td>\n",
        "      <td>      6.297587</td>\n",
        "      <td>      0.752713</td>\n",
        "      <td>     34.798061</td>\n",
        "      <td>     45.130270</td>\n",
        "      <td>     24.785678</td>\n",
        "      <td>      0.023350</td>\n",
        "      <td>     69.255663</td>\n",
        "    </tr>\n",
        "    <tr>\n",
        "      <th>min</th>\n",
        "      <td>        0.000000</td>\n",
        "      <td>      0.000000</td>\n",
        "      <td>     False</td>\n",
        "      <td>   True</td>\n",
        "      <td>  False</td>\n",
        "      <td>     False</td>\n",
        "      <td>      1.000000</td>\n",
        "      <td>      1.000000</td>\n",
        "      <td>      0.000000</td>\n",
        "      <td>      1.000000</td>\n",
        "      <td>      0.000000</td>\n",
        "      <td>      0.000000</td>\n",
        "      <td>      0.000000</td>\n",
        "      <td>      0.000000</td>\n",
        "    </tr>\n",
        "    <tr>\n",
        "      <th>25%</th>\n",
        "      <td>      213.000000</td>\n",
        "      <td>    167.000000</td>\n",
        "      <td>         0</td>\n",
        "      <td>      1</td>\n",
        "      <td>      0</td>\n",
        "      <td>         0</td>\n",
        "      <td>      3.769231</td>\n",
        "      <td>      5.000000</td>\n",
        "      <td>      0.000000</td>\n",
        "      <td>     33.000000</td>\n",
        "      <td>      0.000000</td>\n",
        "      <td>      0.000000</td>\n",
        "      <td>      0.000000</td>\n",
        "      <td>      0.000000</td>\n",
        "    </tr>\n",
        "    <tr>\n",
        "      <th>50%</th>\n",
        "      <td>      491.000000</td>\n",
        "      <td>   1186.000000</td>\n",
        "      <td>         0</td>\n",
        "      <td>      1</td>\n",
        "      <td>      0</td>\n",
        "      <td>         0</td>\n",
        "      <td>      4.333333</td>\n",
        "      <td>      8.000000</td>\n",
        "      <td>      0.000000</td>\n",
        "      <td>     52.000000</td>\n",
        "      <td>      0.000000</td>\n",
        "      <td>      0.000000</td>\n",
        "      <td>      0.000000</td>\n",
        "      <td>      0.000000</td>\n",
        "    </tr>\n",
        "    <tr>\n",
        "      <th>75%</th>\n",
        "      <td>     1190.000000</td>\n",
        "      <td>   4505.000000</td>\n",
        "      <td>         1</td>\n",
        "      <td>      1</td>\n",
        "      <td>      0</td>\n",
        "      <td>         1</td>\n",
        "      <td>      5.090909</td>\n",
        "      <td>     14.000000</td>\n",
        "      <td>      0.000000</td>\n",
        "      <td>     84.000000</td>\n",
        "      <td>      1.000000</td>\n",
        "      <td>      0.000000</td>\n",
        "      <td>      0.001107</td>\n",
        "      <td>      1.000000</td>\n",
        "    </tr>\n",
        "    <tr>\n",
        "      <th>max</th>\n",
        "      <td> 18597247.000000</td>\n",
        "      <td> 722469.000000</td>\n",
        "      <td>      True</td>\n",
        "      <td>   True</td>\n",
        "      <td>  False</td>\n",
        "      <td>      True</td>\n",
        "      <td>    116.000000</td>\n",
        "      <td>     35.000000</td>\n",
        "      <td>     18.000000</td>\n",
        "      <td>    140.000000</td>\n",
        "      <td>  10867.000000</td>\n",
        "      <td>   5002.000000</td>\n",
        "      <td>      3.000000</td>\n",
        "      <td>  15518.000000</td>\n",
        "    </tr>\n",
        "  </tbody>\n",
        "</table>\n",
        "</div>"
       ],
       "metadata": {},
       "output_type": "pyout",
       "prompt_number": 20,
       "text": [
        "             followers      favorites default_profile default_pic has_link  \\\n",
        "count    109121.000000  109121.000000          109121      109121   109121   \n",
        "mean       3127.005553    4513.192236        0.313606           1        0   \n",
        "std       71702.590445   11191.527314       0.4639604           0        0   \n",
        "min           0.000000       0.000000           False        True    False   \n",
        "25%         213.000000     167.000000               0           1        0   \n",
        "50%         491.000000    1186.000000               0           1        0   \n",
        "75%        1190.000000    4505.000000               1           1        0   \n",
        "max    18597247.000000  722469.000000            True        True    False   \n",
        "\n",
        "        is_reply    word_length     word_count     hash_count     char_count  \\\n",
        "count     109121  109121.000000  109121.000000  109121.000000  109121.000000   \n",
        "mean    0.343811       4.617139       9.821327       0.206010      60.495459   \n",
        "std    0.4749811       1.704942       6.297587       0.752713      34.798061   \n",
        "min        False       1.000000       1.000000       0.000000       1.000000   \n",
        "25%            0       3.769231       5.000000       0.000000      33.000000   \n",
        "50%            0       4.333333       8.000000       0.000000      52.000000   \n",
        "75%            1       5.090909      14.000000       0.000000      84.000000   \n",
        "max         True     116.000000      35.000000      18.000000     140.000000   \n",
        "\n",
        "       favorite_count  retweet_count  interaction_rate            R+F  \n",
        "count   109121.000000  109121.000000     109121.000000  109121.000000  \n",
        "mean         1.090908       0.572337          0.002707       1.663245  \n",
        "std         45.130270      24.785678          0.023350      69.255663  \n",
        "min          0.000000       0.000000          0.000000       0.000000  \n",
        "25%          0.000000       0.000000          0.000000       0.000000  \n",
        "50%          0.000000       0.000000          0.000000       0.000000  \n",
        "75%          1.000000       0.000000          0.001107       1.000000  \n",
        "max      10867.000000    5002.000000          3.000000   15518.000000  "
       ]
      }
     ],
     "prompt_number": 20
    },
    {
     "cell_type": "code",
     "collapsed": false,
     "input": [
      "# for interest, create smaller dataset that only looks at tweets with at least one retweet\n",
      "# as you can see, this dataset is too small to work with past the exploratory phase\n",
      "\n",
      "df.blah = df.small[df.small.retweet_count>0]\n",
      "print len(df.blah)"
     ],
     "language": "python",
     "metadata": {},
     "outputs": [
      {
       "output_type": "stream",
       "stream": "stdout",
       "text": [
        "14636\n"
       ]
      }
     ],
     "prompt_number": 21
    },
    {
     "cell_type": "code",
     "collapsed": false,
     "input": [
      "# print correlation plot for all the metrics\n",
      "\n",
      "f, ax = plt.subplots(figsize=(10, 10))\n",
      "sns.corrplot(df.small, annot=False, diag_names=False, cmap_range=(-.3, .3))\n",
      "ax.grid(False)\n",
      "plt.show()"
     ],
     "language": "python",
     "metadata": {},
     "outputs": [
      {
       "metadata": {},
       "output_type": "display_data",
       "png": "[encoded data removed]",
       "text": [
        "<matplotlib.figure.Figure at 0x11260c450>"
       ]
      }
     ],
     "prompt_number": 22
    },
    {
     "cell_type": "code",
     "collapsed": false,
     "input": [
      "# print correlation plot for all the metrics\n",
      "\n",
      "f, ax = plt.subplots(figsize=(10, 10))\n",
      "sns.corrplot(df.blah, annot=False, diag_names=False, cmap_range=(-.3, .3))\n",
      "ax.grid(False)\n",
      "plt.show()"
     ],
     "language": "python",
     "metadata": {},
     "outputs": [
      {
       "metadata": {},
       "output_type": "display_data",
       "png": "[encoded data removed]",
       "text": [
        "<matplotlib.figure.Figure at 0x11d109ad0>"
       ]
      }
     ],
     "prompt_number": 23
    },
    {
     "cell_type": "markdown",
     "metadata": {},
     "source": [
      "As you can see in the plots above, our initial results are pretty disappointing.  Most of the factors are practically uncorrelated with number of retweets, number of favorites, and the rate of interaction normalized with respect to the number of followers.  In fact, the only significant relationships between interaction and any of our metrics appears to be between the number of followers and the number of interactions - a somewhat trivial observation that was easy to predict ahead of time.  This is likely because, as is evident when examining the data, the vast majority of tweets do not receive any interactions, and even more receive no significant interaction (2 or fewer retweets or favorites).  Thus there is no consistent difference between tweets that are interacted with and those that aren't - the data just isn't very separable."
     ]
    },
    {
     "cell_type": "code",
     "collapsed": false,
     "input": [
      "# function to turn the interaction_rate into a binary yes/no question\n",
      "def binarize(rating):\n",
      "    if rating > 0:\n",
      "        return 1\n",
      "    else:\n",
      "        return 0"
     ],
     "language": "python",
     "metadata": {},
     "outputs": [],
     "prompt_number": 24
    },
    {
     "cell_type": "code",
     "collapsed": false,
     "input": [
      "# Let's see what we're working with\n",
      "\n",
      "f = plt.figure(figsize=(15,5))\n",
      "ax1 = f.add_subplot(131)\n",
      "ax2 = f.add_subplot(132)\n",
      "ax3 = f.add_subplot(133)\n",
      "\n",
      "df.interaction_rate.hist(ax=ax1,log=True,bins=6,color='blue',alpha=.7)\n",
      "ax1.set_title('Distribution of Interaction Rates')\n",
      "ax1.set_xlabel('(# Retweets + # Favorites) / (# Followers + 1)')\n",
      "\n",
      "df.retweet_count.map(binarize).value_counts().plot(kind='bar',ax=ax2,xticks=[0,1,2],colormap='winter',alpha=.7)\n",
      "ax2.set_title('Retweets')\n",
      "ax2.set_xlabel('Binary Yes/No Retweeted')\n",
      "\n",
      "df.favorite_count.map(binarize).value_counts().plot(kind='bar',ax=ax3,xticks=[0,1,2],colormap='winter',alpha=.7)\n",
      "ax3.set_title('Favorites')\n",
      "ax3.set_xlabel('Binary Yes/No Favorited')\n",
      "\n",
      "plt.show()"
     ],
     "language": "python",
     "metadata": {},
     "outputs": [
      {
       "metadata": {},
       "output_type": "display_data",
       "png": "[encoded data removed]",
       "text": [
        "<matplotlib.figure.Figure at 0x11949fa90>"
       ]
      }
     ],
     "prompt_number": 36
    },
    {
     "cell_type": "markdown",
     "metadata": {},
     "source": [
      "Here we see the linear regression lines, with 95% confidence intervals, for the two relationships that appear robust in our data - between retweets and favorites, and between retweets + favorites and number of followers.  I guess it pays to be well liked! "
     ]
    },
    {
     "cell_type": "code",
     "collapsed": false,
     "input": [
      "# some interesting regression lines\n",
      "\n",
      "f = plt.figure(figsize=(15,10))\n",
      "ax1 = f.add_subplot(221)\n",
      "ax2 = f.add_subplot(222)\n",
      "\n",
      "sns.set(style=\"darkgrid\")\n",
      "\n",
      "# retweets and favorites are correlated\n",
      "sns.regplot(df.small['retweet_count'],df.small['favorite_count'],ax=ax1)\n",
      "sns.regplot(df.small['followers'],df.small['retweet_count']+df.small['favorite_count'],ax=ax2)\n",
      "ax2.set_ylabel('Retweets + Favorites')"
     ],
     "language": "python",
     "metadata": {},
     "outputs": [
      {
       "metadata": {},
       "output_type": "pyout",
       "prompt_number": 37,
       "text": [
        "<matplotlib.text.Text at 0x10e9e2d10>"
       ]
      },
      {
       "metadata": {},
       "output_type": "display_data",
       "png": "[encoded data removed]",
       "text": [
        "<matplotlib.figure.Figure at 0x1194a86d0>"
       ]
      }
     ],
     "prompt_number": 37
    },
    {
     "cell_type": "markdown",
     "metadata": {},
     "source": [
      "Below, we implement principal component analysis for the data along the first two compoenents.  As we can see, our suspicion from above is confirmed - the data is very clustered and it's extremely difficult to separate the data betweet tweets that receive interactions and those that don't.  The results stay depressingly the same regardless of where we put the cutoff for a significant number of interactions."
     ]
    },
    {
     "cell_type": "code",
     "collapsed": false,
     "input": [
      "Y = df.small['interaction_rate'].map(binarize)\n",
      "X = df.small.drop(['interaction_rate','favorite_count','retweet_count','R+F','created_at'],axis=1)\n",
      "\n",
      "print X.shape, Y.shape"
     ],
     "language": "python",
     "metadata": {},
     "outputs": [
      {
       "output_type": "stream",
       "stream": "stdout",
       "text": [
        "(109121, 10) (109121,)\n"
       ]
      }
     ],
     "prompt_number": 41
    },
    {
     "cell_type": "code",
     "collapsed": false,
     "input": [
      "import sklearn as skl\n",
      "import sklearn.datasets as skldata\n",
      "import sklearn.cross_validation as sklcv\n",
      "import sklearn.decomposition as skldecomp\n",
      "import sklearn.grid_search as sklgs\n",
      "import sklearn.neighbors as skln\n",
      "import sklearn.metrics as sklm"
     ],
     "language": "python",
     "metadata": {},
     "outputs": [],
     "prompt_number": 42
    },
    {
     "cell_type": "code",
     "collapsed": false,
     "input": [
      "svd = skldecomp.TruncatedSVD(n_components=2)\n",
      "x_2d = svd.fit_transform(X)\n",
      "\n",
      "plt.scatter(x_2d[:,0], x_2d[:,1], c=Y, s = 50, cmap=plt.cm.Paired, alpha=.5)\n",
      "plt.title('SVD Decomposition')\n",
      "plt.show()"
     ],
     "language": "python",
     "metadata": {},
     "outputs": [
      {
       "metadata": {},
       "output_type": "display_data",
       "png": "[encoded data removed]",
       "text": [
        "<matplotlib.figure.Figure at 0x10e88c250>"
       ]
      }
     ],
     "prompt_number": 44
    },
    {
     "cell_type": "markdown",
     "metadata": {},
     "source": [
      "Given the weird results above (i.e. we know that other twitter research has, at times, produced seemingly significant correlations between things like the inclusion of hashtags and number of interactions), we decided to make a bigger dataset with tweets from different days (maybe it was just that particular time that was off, so our thinking went).  We would then be able to control for the influence of the time of the tweet, and compare the data using the same metrics.  The code and graphs below demonstrate that this is not the case.  We get almost identical results in the exploratory phase when using the different dataset."
     ]
    },
    {
     "cell_type": "code",
     "collapsed": false,
     "input": [
      "# The csv documents \"parallel#\" were created by running the tweet gathering script using 5\n",
      "# different API keys. They were then merged and cleaned using the same process as above.\n",
      "\n",
      "path1 = \"parallel1.csv\"\n",
      "path2 = \"parallel2.csv\"\n",
      "path3 = \"parallel3.csv\"\n",
      "path4 = \"parallel4.csv\"\n",
      "path5 = \"parallel5.csv\"\n",
      "\n",
      "df1 = pd.DataFrame.from_csv(path1)\n",
      "df1 = df1.reset_index()\n",
      "df1 = df1.drop_duplicates('tweet_id')\n",
      "df1 = df1[df1['lang'] == 'en']\n",
      "\n",
      "df2 = pd.DataFrame.from_csv(path2)\n",
      "df2 = df2.reset_index()\n",
      "df2 = df2.drop_duplicates('tweet_id')\n",
      "df2 = df2[df2['lang'] == 'en']\n",
      "\n",
      "df3 = pd.DataFrame.from_csv(path3)\n",
      "df3 = df3.reset_index()\n",
      "df3 = df3.drop_duplicates('tweet_id')\n",
      "df3 = df3[df3['lang'] == 'en']\n",
      "\n",
      "df4 = pd.DataFrame.from_csv(path4)\n",
      "df4 = df4.reset_index()\n",
      "df4 = df4.drop_duplicates('tweet_id')\n",
      "df4 = df4[df4['lang'] == 'en']\n",
      "\n",
      "df5 = pd.DataFrame.from_csv(path5)\n",
      "df5 = df5.reset_index()\n",
      "df5 = df5.drop_duplicates('tweet_id')\n",
      "df5 = df5[df5['lang'] == 'en']\n",
      "\n",
      "df1.head()"
     ],
     "language": "python",
     "metadata": {},
     "outputs": [
      {
       "html": [
        "<div style=\"max-height:1000px;max-width:1500px;overflow:auto;\">\n",
        "<table border=\"1\" class=\"dataframe\">\n",
        "  <thead>\n",
        "    <tr style=\"text-align: right;\">\n",
        "      <th></th>\n",
        "      <th>tweet_id</th>\n",
        "      <th>screen_name</th>\n",
        "      <th>name</th>\n",
        "      <th>user_id</th>\n",
        "      <th>followers_count</th>\n",
        "      <th>favourites_count</th>\n",
        "      <th>prof_pic</th>\n",
        "      <th>default_profile</th>\n",
        "      <th>default_pic</th>\n",
        "      <th>description</th>\n",
        "      <th>text</th>\n",
        "      <th>created_at</th>\n",
        "      <th>favorite_count</th>\n",
        "      <th>retweet_count</th>\n",
        "      <th>lang</th>\n",
        "      <th>coordinates</th>\n",
        "      <th>is_retweet</th>\n",
        "    </tr>\n",
        "  </thead>\n",
        "  <tbody>\n",
        "    <tr>\n",
        "      <th>0</th>\n",
        "      <td> 540294402166767616</td>\n",
        "      <td>       whoislest</td>\n",
        "      <td>             let</td>\n",
        "      <td>  286383919</td>\n",
        "      <td> 1005</td>\n",
        "      <td>  4528</td>\n",
        "      <td> http://pbs.twimg.com/profile_images/5421130387...</td>\n",
        "      <td> False</td>\n",
        "      <td> False</td>\n",
        "      <td> Nothing is wrong if it feels good</td>\n",
        "      <td> I\u00a0don't know what you heard about me, but a bi...</td>\n",
        "      <td> 2014-12-03 23:59:58</td>\n",
        "      <td> 0</td>\n",
        "      <td> 0</td>\n",
        "      <td> en</td>\n",
        "      <td> NaN</td>\n",
        "      <td> False</td>\n",
        "    </tr>\n",
        "    <tr>\n",
        "      <th>1</th>\n",
        "      <td> 539932021351407616</td>\n",
        "      <td> romanellimarco1</td>\n",
        "      <td>          Marco </td>\n",
        "      <td> 1117443108</td>\n",
        "      <td>  445</td>\n",
        "      <td>   210</td>\n",
        "      <td> http://pbs.twimg.com/profile_images/5146088708...</td>\n",
        "      <td> False</td>\n",
        "      <td> False</td>\n",
        "      <td>                     #tgod #yngfvs</td>\n",
        "      <td> Today stats: No new followers, 2 unfollowers a...</td>\n",
        "      <td> 2014-12-02 23:59:59</td>\n",
        "      <td> 0</td>\n",
        "      <td> 0</td>\n",
        "      <td> en</td>\n",
        "      <td> NaN</td>\n",
        "      <td> False</td>\n",
        "    </tr>\n",
        "    <tr>\n",
        "      <th>2</th>\n",
        "      <td> 539932021351403520</td>\n",
        "      <td>     Elizabeach_</td>\n",
        "      <td>          lizzie</td>\n",
        "      <td> 2457897885</td>\n",
        "      <td> 2069</td>\n",
        "      <td> 62210</td>\n",
        "      <td> http://pbs.twimg.com/profile_images/5418089092...</td>\n",
        "      <td>  True</td>\n",
        "      <td> False</td>\n",
        "      <td>                                \u2615\ufe0f</td>\n",
        "      <td>  @EmblemThree @JackJackJohnson @jackgilinsky nice</td>\n",
        "      <td> 2014-12-02 23:59:59</td>\n",
        "      <td> 0</td>\n",
        "      <td> 0</td>\n",
        "      <td> en</td>\n",
        "      <td> NaN</td>\n",
        "      <td> False</td>\n",
        "    </tr>\n",
        "    <tr>\n",
        "      <th>3</th>\n",
        "      <td> 539932021351383042</td>\n",
        "      <td> georgia_winters</td>\n",
        "      <td> Georgia Winters</td>\n",
        "      <td>  604515584</td>\n",
        "      <td>  526</td>\n",
        "      <td>  2115</td>\n",
        "      <td> http://pbs.twimg.com/profile_images/5018143707...</td>\n",
        "      <td> False</td>\n",
        "      <td> False</td>\n",
        "      <td>                               NaN</td>\n",
        "      <td>                                 i dont even smoke</td>\n",
        "      <td> 2014-12-02 23:59:59</td>\n",
        "      <td> 0</td>\n",
        "      <td> 0</td>\n",
        "      <td> en</td>\n",
        "      <td> NaN</td>\n",
        "      <td> False</td>\n",
        "    </tr>\n",
        "    <tr>\n",
        "      <th>4</th>\n",
        "      <td> 539932021347213313</td>\n",
        "      <td>     IAMYUNGKANE</td>\n",
        "      <td>     Yungdrseuss</td>\n",
        "      <td>  110282804</td>\n",
        "      <td> 2191</td>\n",
        "      <td>    11</td>\n",
        "      <td> http://pbs.twimg.com/profile_images/3788000005...</td>\n",
        "      <td> False</td>\n",
        "      <td> False</td>\n",
        "      <td>                            Mr. XI</td>\n",
        "      <td>          @IamtheLeague took a day to get here tho</td>\n",
        "      <td> 2014-12-02 23:59:59</td>\n",
        "      <td> 0</td>\n",
        "      <td> 0</td>\n",
        "      <td> en</td>\n",
        "      <td> NaN</td>\n",
        "      <td> False</td>\n",
        "    </tr>\n",
        "  </tbody>\n",
        "</table>\n",
        "</div>"
       ],
       "metadata": {},
       "output_type": "pyout",
       "prompt_number": 45,
       "text": [
        "             tweet_id      screen_name             name     user_id  \\\n",
        "0  540294402166767616        whoislest              let   286383919   \n",
        "1  539932021351407616  romanellimarco1           Marco   1117443108   \n",
        "2  539932021351403520      Elizabeach_           lizzie  2457897885   \n",
        "3  539932021351383042  georgia_winters  Georgia Winters   604515584   \n",
        "4  539932021347213313      IAMYUNGKANE      Yungdrseuss   110282804   \n",
        "\n",
        "   followers_count  favourites_count  \\\n",
        "0             1005              4528   \n",
        "1              445               210   \n",
        "2             2069             62210   \n",
        "3              526              2115   \n",
        "4             2191                11   \n",
        "\n",
        "                                            prof_pic default_profile  \\\n",
        "0  http://pbs.twimg.com/profile_images/5421130387...           False   \n",
        "1  http://pbs.twimg.com/profile_images/5146088708...           False   \n",
        "2  http://pbs.twimg.com/profile_images/5418089092...            True   \n",
        "3  http://pbs.twimg.com/profile_images/5018143707...           False   \n",
        "4  http://pbs.twimg.com/profile_images/3788000005...           False   \n",
        "\n",
        "  default_pic                        description  \\\n",
        "0       False  Nothing is wrong if it feels good   \n",
        "1       False                      #tgod #yngfvs   \n",
        "2       False                                 \u2615\ufe0f   \n",
        "3       False                                NaN   \n",
        "4       False                             Mr. XI   \n",
        "\n",
        "                                                text           created_at  \\\n",
        "0  I\u00a0don't know what you heard about me, but a bi...  2014-12-03 23:59:58   \n",
        "1  Today stats: No new followers, 2 unfollowers a...  2014-12-02 23:59:59   \n",
        "2   @EmblemThree @JackJackJohnson @jackgilinsky nice  2014-12-02 23:59:59   \n",
        "3                                  i dont even smoke  2014-12-02 23:59:59   \n",
        "4           @IamtheLeague took a day to get here tho  2014-12-02 23:59:59   \n",
        "\n",
        "   favorite_count  retweet_count lang coordinates is_retweet  \n",
        "0               0              0   en         NaN      False  \n",
        "1               0              0   en         NaN      False  \n",
        "2               0              0   en         NaN      False  \n",
        "3               0              0   en         NaN      False  \n",
        "4               0              0   en         NaN      False  "
       ]
      }
     ],
     "prompt_number": 45
    },
    {
     "cell_type": "code",
     "collapsed": false,
     "input": [
      "df = pd.concat([df1,df2,df3,df4,df5])\n",
      "print (len(df) == len(df1) + len(df2) + len(df3) + len(df4) + len(df5))\n",
      "print len(df)"
     ],
     "language": "python",
     "metadata": {},
     "outputs": [
      {
       "output_type": "stream",
       "stream": "stdout",
       "text": [
        "True\n",
        "333855\n"
       ]
      }
     ],
     "prompt_number": 46
    },
    {
     "cell_type": "code",
     "collapsed": false,
     "input": [
      "no_rt = df[df['is_retweet'] == False]\n",
      "no_rt = no_rt.reset_index(drop=True)\n",
      "no_rt.head()"
     ],
     "language": "python",
     "metadata": {},
     "outputs": [
      {
       "html": [
        "<div style=\"max-height:1000px;max-width:1500px;overflow:auto;\">\n",
        "<table border=\"1\" class=\"dataframe\">\n",
        "  <thead>\n",
        "    <tr style=\"text-align: right;\">\n",
        "      <th></th>\n",
        "      <th>tweet_id</th>\n",
        "      <th>screen_name</th>\n",
        "      <th>name</th>\n",
        "      <th>user_id</th>\n",
        "      <th>followers_count</th>\n",
        "      <th>favourites_count</th>\n",
        "      <th>prof_pic</th>\n",
        "      <th>default_profile</th>\n",
        "      <th>default_pic</th>\n",
        "      <th>description</th>\n",
        "      <th>text</th>\n",
        "      <th>created_at</th>\n",
        "      <th>favorite_count</th>\n",
        "      <th>retweet_count</th>\n",
        "      <th>lang</th>\n",
        "      <th>coordinates</th>\n",
        "      <th>is_retweet</th>\n",
        "    </tr>\n",
        "  </thead>\n",
        "  <tbody>\n",
        "    <tr>\n",
        "      <th>0</th>\n",
        "      <td> 540294402166767616</td>\n",
        "      <td>       whoislest</td>\n",
        "      <td>             let</td>\n",
        "      <td>  286383919</td>\n",
        "      <td> 1005</td>\n",
        "      <td>  4528</td>\n",
        "      <td> http://pbs.twimg.com/profile_images/5421130387...</td>\n",
        "      <td> False</td>\n",
        "      <td> False</td>\n",
        "      <td> Nothing is wrong if it feels good</td>\n",
        "      <td> I\u00a0don't know what you heard about me, but a bi...</td>\n",
        "      <td> 2014-12-03 23:59:58</td>\n",
        "      <td> 0</td>\n",
        "      <td> 0</td>\n",
        "      <td> en</td>\n",
        "      <td> NaN</td>\n",
        "      <td> False</td>\n",
        "    </tr>\n",
        "    <tr>\n",
        "      <th>1</th>\n",
        "      <td> 539932021351407616</td>\n",
        "      <td> romanellimarco1</td>\n",
        "      <td>          Marco </td>\n",
        "      <td> 1117443108</td>\n",
        "      <td>  445</td>\n",
        "      <td>   210</td>\n",
        "      <td> http://pbs.twimg.com/profile_images/5146088708...</td>\n",
        "      <td> False</td>\n",
        "      <td> False</td>\n",
        "      <td>                     #tgod #yngfvs</td>\n",
        "      <td> Today stats: No new followers, 2 unfollowers a...</td>\n",
        "      <td> 2014-12-02 23:59:59</td>\n",
        "      <td> 0</td>\n",
        "      <td> 0</td>\n",
        "      <td> en</td>\n",
        "      <td> NaN</td>\n",
        "      <td> False</td>\n",
        "    </tr>\n",
        "    <tr>\n",
        "      <th>2</th>\n",
        "      <td> 539932021351403520</td>\n",
        "      <td>     Elizabeach_</td>\n",
        "      <td>          lizzie</td>\n",
        "      <td> 2457897885</td>\n",
        "      <td> 2069</td>\n",
        "      <td> 62210</td>\n",
        "      <td> http://pbs.twimg.com/profile_images/5418089092...</td>\n",
        "      <td>  True</td>\n",
        "      <td> False</td>\n",
        "      <td>                                \u2615\ufe0f</td>\n",
        "      <td>  @EmblemThree @JackJackJohnson @jackgilinsky nice</td>\n",
        "      <td> 2014-12-02 23:59:59</td>\n",
        "      <td> 0</td>\n",
        "      <td> 0</td>\n",
        "      <td> en</td>\n",
        "      <td> NaN</td>\n",
        "      <td> False</td>\n",
        "    </tr>\n",
        "    <tr>\n",
        "      <th>3</th>\n",
        "      <td> 539932021351383042</td>\n",
        "      <td> georgia_winters</td>\n",
        "      <td> Georgia Winters</td>\n",
        "      <td>  604515584</td>\n",
        "      <td>  526</td>\n",
        "      <td>  2115</td>\n",
        "      <td> http://pbs.twimg.com/profile_images/5018143707...</td>\n",
        "      <td> False</td>\n",
        "      <td> False</td>\n",
        "      <td>                               NaN</td>\n",
        "      <td>                                 i dont even smoke</td>\n",
        "      <td> 2014-12-02 23:59:59</td>\n",
        "      <td> 0</td>\n",
        "      <td> 0</td>\n",
        "      <td> en</td>\n",
        "      <td> NaN</td>\n",
        "      <td> False</td>\n",
        "    </tr>\n",
        "    <tr>\n",
        "      <th>4</th>\n",
        "      <td> 539932021347213313</td>\n",
        "      <td>     IAMYUNGKANE</td>\n",
        "      <td>     Yungdrseuss</td>\n",
        "      <td>  110282804</td>\n",
        "      <td> 2191</td>\n",
        "      <td>    11</td>\n",
        "      <td> http://pbs.twimg.com/profile_images/3788000005...</td>\n",
        "      <td> False</td>\n",
        "      <td> False</td>\n",
        "      <td>                            Mr. XI</td>\n",
        "      <td>          @IamtheLeague took a day to get here tho</td>\n",
        "      <td> 2014-12-02 23:59:59</td>\n",
        "      <td> 0</td>\n",
        "      <td> 0</td>\n",
        "      <td> en</td>\n",
        "      <td> NaN</td>\n",
        "      <td> False</td>\n",
        "    </tr>\n",
        "  </tbody>\n",
        "</table>\n",
        "</div>"
       ],
       "metadata": {},
       "output_type": "pyout",
       "prompt_number": 47,
       "text": [
        "             tweet_id      screen_name             name     user_id  \\\n",
        "0  540294402166767616        whoislest              let   286383919   \n",
        "1  539932021351407616  romanellimarco1           Marco   1117443108   \n",
        "2  539932021351403520      Elizabeach_           lizzie  2457897885   \n",
        "3  539932021351383042  georgia_winters  Georgia Winters   604515584   \n",
        "4  539932021347213313      IAMYUNGKANE      Yungdrseuss   110282804   \n",
        "\n",
        "   followers_count  favourites_count  \\\n",
        "0             1005              4528   \n",
        "1              445               210   \n",
        "2             2069             62210   \n",
        "3              526              2115   \n",
        "4             2191                11   \n",
        "\n",
        "                                            prof_pic default_profile  \\\n",
        "0  http://pbs.twimg.com/profile_images/5421130387...           False   \n",
        "1  http://pbs.twimg.com/profile_images/5146088708...           False   \n",
        "2  http://pbs.twimg.com/profile_images/5418089092...            True   \n",
        "3  http://pbs.twimg.com/profile_images/5018143707...           False   \n",
        "4  http://pbs.twimg.com/profile_images/3788000005...           False   \n",
        "\n",
        "  default_pic                        description  \\\n",
        "0       False  Nothing is wrong if it feels good   \n",
        "1       False                      #tgod #yngfvs   \n",
        "2       False                                 \u2615\ufe0f   \n",
        "3       False                                NaN   \n",
        "4       False                             Mr. XI   \n",
        "\n",
        "                                                text           created_at  \\\n",
        "0  I\u00a0don't know what you heard about me, but a bi...  2014-12-03 23:59:58   \n",
        "1  Today stats: No new followers, 2 unfollowers a...  2014-12-02 23:59:59   \n",
        "2   @EmblemThree @JackJackJohnson @jackgilinsky nice  2014-12-02 23:59:59   \n",
        "3                                  i dont even smoke  2014-12-02 23:59:59   \n",
        "4           @IamtheLeague took a day to get here tho  2014-12-02 23:59:59   \n",
        "\n",
        "   favorite_count  retweet_count lang coordinates is_retweet  \n",
        "0               0              0   en         NaN      False  \n",
        "1               0              0   en         NaN      False  \n",
        "2               0              0   en         NaN      False  \n",
        "3               0              0   en         NaN      False  \n",
        "4               0              0   en         NaN      False  "
       ]
      }
     ],
     "prompt_number": 47
    },
    {
     "cell_type": "code",
     "collapsed": false,
     "input": [
      "# Clean all text data\n",
      "# Inspired by: http://www.analyticsvidhya.com/blog/2014/11/text-data-cleaning-steps-python/\n",
      "\n",
      "html_parser = HTMLParser.HTMLParser()\n",
      "\n",
      "no_rt['text'] = no_rt['text'].apply(lambda x: x.decode(\"utf8\").encode('ascii','ignore'))\n",
      "\n",
      "no_rt['text'] = no_rt['text'].apply(lambda x: html_parser.unescape(x))"
     ],
     "language": "python",
     "metadata": {},
     "outputs": [],
     "prompt_number": 48
    },
    {
     "cell_type": "code",
     "collapsed": false,
     "input": [
      "no_links = []\n",
      "has_link = []\n",
      "is_reply = []\n",
      "regex = re.compile('@')\n",
      "for i, item in enumerate(no_rt['text']):\n",
      "    if regex.match(item):\n",
      "        is_reply.append(True)\n",
      "    else:\n",
      "        is_reply.append(False)\n",
      "    place = item.find('http://')\n",
      "    if place > 0:\n",
      "        no_links.append(item[:place])\n",
      "        has_link.append(True)\n",
      "    else:\n",
      "        no_links.append(item)\n",
      "        has_link.append(False)\n",
      "\n",
      "no_rt['text'] = no_links\n",
      "no_rt['has_link'] = has_link\n",
      "no_rt['is_reply'] = is_reply\n",
      "\n",
      "no_rt.head()"
     ],
     "language": "python",
     "metadata": {},
     "outputs": [
      {
       "html": [
        "<div style=\"max-height:1000px;max-width:1500px;overflow:auto;\">\n",
        "<table border=\"1\" class=\"dataframe\">\n",
        "  <thead>\n",
        "    <tr style=\"text-align: right;\">\n",
        "      <th></th>\n",
        "      <th>tweet_id</th>\n",
        "      <th>screen_name</th>\n",
        "      <th>name</th>\n",
        "      <th>user_id</th>\n",
        "      <th>followers_count</th>\n",
        "      <th>favourites_count</th>\n",
        "      <th>prof_pic</th>\n",
        "      <th>default_profile</th>\n",
        "      <th>default_pic</th>\n",
        "      <th>description</th>\n",
        "      <th>text</th>\n",
        "      <th>created_at</th>\n",
        "      <th>favorite_count</th>\n",
        "      <th>retweet_count</th>\n",
        "      <th>lang</th>\n",
        "      <th>coordinates</th>\n",
        "      <th>is_retweet</th>\n",
        "      <th>has_link</th>\n",
        "      <th>is_reply</th>\n",
        "    </tr>\n",
        "  </thead>\n",
        "  <tbody>\n",
        "    <tr>\n",
        "      <th>0</th>\n",
        "      <td> 540294402166767616</td>\n",
        "      <td>       whoislest</td>\n",
        "      <td>             let</td>\n",
        "      <td>  286383919</td>\n",
        "      <td> 1005</td>\n",
        "      <td>  4528</td>\n",
        "      <td> http://pbs.twimg.com/profile_images/5421130387...</td>\n",
        "      <td> False</td>\n",
        "      <td> False</td>\n",
        "      <td> Nothing is wrong if it feels good</td>\n",
        "      <td> Idon't know what you heard about me, but a bit...</td>\n",
        "      <td> 2014-12-03 23:59:58</td>\n",
        "      <td> 0</td>\n",
        "      <td> 0</td>\n",
        "      <td> en</td>\n",
        "      <td> NaN</td>\n",
        "      <td> False</td>\n",
        "      <td> False</td>\n",
        "      <td> False</td>\n",
        "    </tr>\n",
        "    <tr>\n",
        "      <th>1</th>\n",
        "      <td> 539932021351407616</td>\n",
        "      <td> romanellimarco1</td>\n",
        "      <td>          Marco </td>\n",
        "      <td> 1117443108</td>\n",
        "      <td>  445</td>\n",
        "      <td>   210</td>\n",
        "      <td> http://pbs.twimg.com/profile_images/5146088708...</td>\n",
        "      <td> False</td>\n",
        "      <td> False</td>\n",
        "      <td>                     #tgod #yngfvs</td>\n",
        "      <td> Today stats: No new followers, 2 unfollowers a...</td>\n",
        "      <td> 2014-12-02 23:59:59</td>\n",
        "      <td> 0</td>\n",
        "      <td> 0</td>\n",
        "      <td> en</td>\n",
        "      <td> NaN</td>\n",
        "      <td> False</td>\n",
        "      <td>  True</td>\n",
        "      <td> False</td>\n",
        "    </tr>\n",
        "    <tr>\n",
        "      <th>2</th>\n",
        "      <td> 539932021351403520</td>\n",
        "      <td>     Elizabeach_</td>\n",
        "      <td>          lizzie</td>\n",
        "      <td> 2457897885</td>\n",
        "      <td> 2069</td>\n",
        "      <td> 62210</td>\n",
        "      <td> http://pbs.twimg.com/profile_images/5418089092...</td>\n",
        "      <td>  True</td>\n",
        "      <td> False</td>\n",
        "      <td>                                \u2615\ufe0f</td>\n",
        "      <td>  @EmblemThree @JackJackJohnson @jackgilinsky nice</td>\n",
        "      <td> 2014-12-02 23:59:59</td>\n",
        "      <td> 0</td>\n",
        "      <td> 0</td>\n",
        "      <td> en</td>\n",
        "      <td> NaN</td>\n",
        "      <td> False</td>\n",
        "      <td> False</td>\n",
        "      <td>  True</td>\n",
        "    </tr>\n",
        "    <tr>\n",
        "      <th>3</th>\n",
        "      <td> 539932021351383042</td>\n",
        "      <td> georgia_winters</td>\n",
        "      <td> Georgia Winters</td>\n",
        "      <td>  604515584</td>\n",
        "      <td>  526</td>\n",
        "      <td>  2115</td>\n",
        "      <td> http://pbs.twimg.com/profile_images/5018143707...</td>\n",
        "      <td> False</td>\n",
        "      <td> False</td>\n",
        "      <td>                               NaN</td>\n",
        "      <td>                                 i dont even smoke</td>\n",
        "      <td> 2014-12-02 23:59:59</td>\n",
        "      <td> 0</td>\n",
        "      <td> 0</td>\n",
        "      <td> en</td>\n",
        "      <td> NaN</td>\n",
        "      <td> False</td>\n",
        "      <td> False</td>\n",
        "      <td> False</td>\n",
        "    </tr>\n",
        "    <tr>\n",
        "      <th>4</th>\n",
        "      <td> 539932021347213313</td>\n",
        "      <td>     IAMYUNGKANE</td>\n",
        "      <td>     Yungdrseuss</td>\n",
        "      <td>  110282804</td>\n",
        "      <td> 2191</td>\n",
        "      <td>    11</td>\n",
        "      <td> http://pbs.twimg.com/profile_images/3788000005...</td>\n",
        "      <td> False</td>\n",
        "      <td> False</td>\n",
        "      <td>                            Mr. XI</td>\n",
        "      <td>          @IamtheLeague took a day to get here tho</td>\n",
        "      <td> 2014-12-02 23:59:59</td>\n",
        "      <td> 0</td>\n",
        "      <td> 0</td>\n",
        "      <td> en</td>\n",
        "      <td> NaN</td>\n",
        "      <td> False</td>\n",
        "      <td> False</td>\n",
        "      <td>  True</td>\n",
        "    </tr>\n",
        "  </tbody>\n",
        "</table>\n",
        "</div>"
       ],
       "metadata": {},
       "output_type": "pyout",
       "prompt_number": 49,
       "text": [
        "             tweet_id      screen_name             name     user_id  \\\n",
        "0  540294402166767616        whoislest              let   286383919   \n",
        "1  539932021351407616  romanellimarco1           Marco   1117443108   \n",
        "2  539932021351403520      Elizabeach_           lizzie  2457897885   \n",
        "3  539932021351383042  georgia_winters  Georgia Winters   604515584   \n",
        "4  539932021347213313      IAMYUNGKANE      Yungdrseuss   110282804   \n",
        "\n",
        "   followers_count  favourites_count  \\\n",
        "0             1005              4528   \n",
        "1              445               210   \n",
        "2             2069             62210   \n",
        "3              526              2115   \n",
        "4             2191                11   \n",
        "\n",
        "                                            prof_pic default_profile  \\\n",
        "0  http://pbs.twimg.com/profile_images/5421130387...           False   \n",
        "1  http://pbs.twimg.com/profile_images/5146088708...           False   \n",
        "2  http://pbs.twimg.com/profile_images/5418089092...            True   \n",
        "3  http://pbs.twimg.com/profile_images/5018143707...           False   \n",
        "4  http://pbs.twimg.com/profile_images/3788000005...           False   \n",
        "\n",
        "  default_pic                        description  \\\n",
        "0       False  Nothing is wrong if it feels good   \n",
        "1       False                      #tgod #yngfvs   \n",
        "2       False                                 \u2615\ufe0f   \n",
        "3       False                                NaN   \n",
        "4       False                             Mr. XI   \n",
        "\n",
        "                                                text           created_at  \\\n",
        "0  Idon't know what you heard about me, but a bit...  2014-12-03 23:59:58   \n",
        "1  Today stats: No new followers, 2 unfollowers a...  2014-12-02 23:59:59   \n",
        "2   @EmblemThree @JackJackJohnson @jackgilinsky nice  2014-12-02 23:59:59   \n",
        "3                                  i dont even smoke  2014-12-02 23:59:59   \n",
        "4           @IamtheLeague took a day to get here tho  2014-12-02 23:59:59   \n",
        "\n",
        "   favorite_count  retweet_count lang coordinates is_retweet has_link is_reply  \n",
        "0               0              0   en         NaN      False    False    False  \n",
        "1               0              0   en         NaN      False     True    False  \n",
        "2               0              0   en         NaN      False    False     True  \n",
        "3               0              0   en         NaN      False    False    False  \n",
        "4               0              0   en         NaN      False    False     True  "
       ]
      }
     ],
     "prompt_number": 49
    },
    {
     "cell_type": "code",
     "collapsed": false,
     "input": [
      "no_rt['word_length'] = no_rt['text'].apply(word_length)\n",
      "no_rt['word_count'] = no_rt['text'].apply(word_count)\n",
      "no_rt['char_count'] = no_rt['text'].apply(char_count)\n",
      "no_rt.head()"
     ],
     "language": "python",
     "metadata": {},
     "outputs": [
      {
       "html": [
        "<div style=\"max-height:1000px;max-width:1500px;overflow:auto;\">\n",
        "<table border=\"1\" class=\"dataframe\">\n",
        "  <thead>\n",
        "    <tr style=\"text-align: right;\">\n",
        "      <th></th>\n",
        "      <th>tweet_id</th>\n",
        "      <th>screen_name</th>\n",
        "      <th>name</th>\n",
        "      <th>user_id</th>\n",
        "      <th>followers_count</th>\n",
        "      <th>favourites_count</th>\n",
        "      <th>prof_pic</th>\n",
        "      <th>default_profile</th>\n",
        "      <th>default_pic</th>\n",
        "      <th>description</th>\n",
        "      <th>...</th>\n",
        "      <th>favorite_count</th>\n",
        "      <th>retweet_count</th>\n",
        "      <th>lang</th>\n",
        "      <th>coordinates</th>\n",
        "      <th>is_retweet</th>\n",
        "      <th>has_link</th>\n",
        "      <th>is_reply</th>\n",
        "      <th>word_length</th>\n",
        "      <th>word_count</th>\n",
        "      <th>char_count</th>\n",
        "    </tr>\n",
        "  </thead>\n",
        "  <tbody>\n",
        "    <tr>\n",
        "      <th>0</th>\n",
        "      <td> 540294402166767616</td>\n",
        "      <td>       whoislest</td>\n",
        "      <td>             let</td>\n",
        "      <td>  286383919</td>\n",
        "      <td> 1005</td>\n",
        "      <td>  4528</td>\n",
        "      <td> http://pbs.twimg.com/profile_images/5421130387...</td>\n",
        "      <td> False</td>\n",
        "      <td> False</td>\n",
        "      <td> Nothing is wrong if it feels good</td>\n",
        "      <td>...</td>\n",
        "      <td> 0</td>\n",
        "      <td> 0</td>\n",
        "      <td> en</td>\n",
        "      <td> NaN</td>\n",
        "      <td> False</td>\n",
        "      <td> False</td>\n",
        "      <td> False</td>\n",
        "      <td> 3.588235</td>\n",
        "      <td> 17</td>\n",
        "      <td> 77</td>\n",
        "    </tr>\n",
        "    <tr>\n",
        "      <th>1</th>\n",
        "      <td> 539932021351407616</td>\n",
        "      <td> romanellimarco1</td>\n",
        "      <td>          Marco </td>\n",
        "      <td> 1117443108</td>\n",
        "      <td>  445</td>\n",
        "      <td>   210</td>\n",
        "      <td> http://pbs.twimg.com/profile_images/5146088708...</td>\n",
        "      <td> False</td>\n",
        "      <td> False</td>\n",
        "      <td>                     #tgod #yngfvs</td>\n",
        "      <td>...</td>\n",
        "      <td> 0</td>\n",
        "      <td> 0</td>\n",
        "      <td> en</td>\n",
        "      <td> NaN</td>\n",
        "      <td> False</td>\n",
        "      <td>  True</td>\n",
        "      <td> False</td>\n",
        "      <td> 5.083333</td>\n",
        "      <td> 12</td>\n",
        "      <td> 73</td>\n",
        "    </tr>\n",
        "    <tr>\n",
        "      <th>2</th>\n",
        "      <td> 539932021351403520</td>\n",
        "      <td>     Elizabeach_</td>\n",
        "      <td>          lizzie</td>\n",
        "      <td> 2457897885</td>\n",
        "      <td> 2069</td>\n",
        "      <td> 62210</td>\n",
        "      <td> http://pbs.twimg.com/profile_images/5418089092...</td>\n",
        "      <td>  True</td>\n",
        "      <td> False</td>\n",
        "      <td>                                \u2615\ufe0f</td>\n",
        "      <td>...</td>\n",
        "      <td> 0</td>\n",
        "      <td> 0</td>\n",
        "      <td> en</td>\n",
        "      <td> NaN</td>\n",
        "      <td> False</td>\n",
        "      <td> False</td>\n",
        "      <td>  True</td>\n",
        "      <td> 4.000000</td>\n",
        "      <td>  1</td>\n",
        "      <td> 48</td>\n",
        "    </tr>\n",
        "    <tr>\n",
        "      <th>3</th>\n",
        "      <td> 539932021351383042</td>\n",
        "      <td> georgia_winters</td>\n",
        "      <td> Georgia Winters</td>\n",
        "      <td>  604515584</td>\n",
        "      <td>  526</td>\n",
        "      <td>  2115</td>\n",
        "      <td> http://pbs.twimg.com/profile_images/5018143707...</td>\n",
        "      <td> False</td>\n",
        "      <td> False</td>\n",
        "      <td>                               NaN</td>\n",
        "      <td>...</td>\n",
        "      <td> 0</td>\n",
        "      <td> 0</td>\n",
        "      <td> en</td>\n",
        "      <td> NaN</td>\n",
        "      <td> False</td>\n",
        "      <td> False</td>\n",
        "      <td> False</td>\n",
        "      <td> 3.500000</td>\n",
        "      <td>  4</td>\n",
        "      <td> 17</td>\n",
        "    </tr>\n",
        "    <tr>\n",
        "      <th>4</th>\n",
        "      <td> 539932021347213313</td>\n",
        "      <td>     IAMYUNGKANE</td>\n",
        "      <td>     Yungdrseuss</td>\n",
        "      <td>  110282804</td>\n",
        "      <td> 2191</td>\n",
        "      <td>    11</td>\n",
        "      <td> http://pbs.twimg.com/profile_images/3788000005...</td>\n",
        "      <td> False</td>\n",
        "      <td> False</td>\n",
        "      <td>                            Mr. XI</td>\n",
        "      <td>...</td>\n",
        "      <td> 0</td>\n",
        "      <td> 0</td>\n",
        "      <td> en</td>\n",
        "      <td> NaN</td>\n",
        "      <td> False</td>\n",
        "      <td> False</td>\n",
        "      <td>  True</td>\n",
        "      <td> 2.857143</td>\n",
        "      <td>  7</td>\n",
        "      <td> 40</td>\n",
        "    </tr>\n",
        "  </tbody>\n",
        "</table>\n",
        "<p>5 rows \u00d7 22 columns</p>\n",
        "</div>"
       ],
       "metadata": {},
       "output_type": "pyout",
       "prompt_number": 50,
       "text": [
        "             tweet_id      screen_name             name     user_id  \\\n",
        "0  540294402166767616        whoislest              let   286383919   \n",
        "1  539932021351407616  romanellimarco1           Marco   1117443108   \n",
        "2  539932021351403520      Elizabeach_           lizzie  2457897885   \n",
        "3  539932021351383042  georgia_winters  Georgia Winters   604515584   \n",
        "4  539932021347213313      IAMYUNGKANE      Yungdrseuss   110282804   \n",
        "\n",
        "   followers_count  favourites_count  \\\n",
        "0             1005              4528   \n",
        "1              445               210   \n",
        "2             2069             62210   \n",
        "3              526              2115   \n",
        "4             2191                11   \n",
        "\n",
        "                                            prof_pic default_profile  \\\n",
        "0  http://pbs.twimg.com/profile_images/5421130387...           False   \n",
        "1  http://pbs.twimg.com/profile_images/5146088708...           False   \n",
        "2  http://pbs.twimg.com/profile_images/5418089092...            True   \n",
        "3  http://pbs.twimg.com/profile_images/5018143707...           False   \n",
        "4  http://pbs.twimg.com/profile_images/3788000005...           False   \n",
        "\n",
        "  default_pic                        description  \\\n",
        "0       False  Nothing is wrong if it feels good   \n",
        "1       False                      #tgod #yngfvs   \n",
        "2       False                                 \u2615\ufe0f   \n",
        "3       False                                NaN   \n",
        "4       False                             Mr. XI   \n",
        "\n",
        "                 ...                 favorite_count retweet_count  lang  \\\n",
        "0                ...                              0             0    en   \n",
        "1                ...                              0             0    en   \n",
        "2                ...                              0             0    en   \n",
        "3                ...                              0             0    en   \n",
        "4                ...                              0             0    en   \n",
        "\n",
        "   coordinates is_retweet has_link is_reply word_length word_count  char_count  \n",
        "0          NaN      False    False    False    3.588235         17          77  \n",
        "1          NaN      False     True    False    5.083333         12          73  \n",
        "2          NaN      False    False     True    4.000000          1          48  \n",
        "3          NaN      False    False    False    3.500000          4          17  \n",
        "4          NaN      False    False     True    2.857143          7          40  \n",
        "\n",
        "[5 rows x 22 columns]"
       ]
      }
     ],
     "prompt_number": 50
    },
    {
     "cell_type": "code",
     "collapsed": false,
     "input": [
      "new_path = 'biggest.csv'\n",
      "\n",
      "no_rt.to_csv(new_path,encoding='utf-8')"
     ],
     "language": "python",
     "metadata": {},
     "outputs": [],
     "prompt_number": 51
    },
    {
     "cell_type": "code",
     "collapsed": false,
     "input": [
      "df = no_rt.drop('coordinates',1).dropna(axis=0).drop_duplicates('tweet_id')\n",
      "df.head()"
     ],
     "language": "python",
     "metadata": {},
     "outputs": [
      {
       "html": [
        "<div style=\"max-height:1000px;max-width:1500px;overflow:auto;\">\n",
        "<table border=\"1\" class=\"dataframe\">\n",
        "  <thead>\n",
        "    <tr style=\"text-align: right;\">\n",
        "      <th></th>\n",
        "      <th>tweet_id</th>\n",
        "      <th>screen_name</th>\n",
        "      <th>name</th>\n",
        "      <th>user_id</th>\n",
        "      <th>followers_count</th>\n",
        "      <th>favourites_count</th>\n",
        "      <th>prof_pic</th>\n",
        "      <th>default_profile</th>\n",
        "      <th>default_pic</th>\n",
        "      <th>description</th>\n",
        "      <th>...</th>\n",
        "      <th>created_at</th>\n",
        "      <th>favorite_count</th>\n",
        "      <th>retweet_count</th>\n",
        "      <th>lang</th>\n",
        "      <th>is_retweet</th>\n",
        "      <th>has_link</th>\n",
        "      <th>is_reply</th>\n",
        "      <th>word_length</th>\n",
        "      <th>word_count</th>\n",
        "      <th>char_count</th>\n",
        "    </tr>\n",
        "  </thead>\n",
        "  <tbody>\n",
        "    <tr>\n",
        "      <th>0</th>\n",
        "      <td> 540294402166767616</td>\n",
        "      <td>       whoislest</td>\n",
        "      <td>         let</td>\n",
        "      <td>  286383919</td>\n",
        "      <td> 1005</td>\n",
        "      <td>  4528</td>\n",
        "      <td> http://pbs.twimg.com/profile_images/5421130387...</td>\n",
        "      <td> False</td>\n",
        "      <td> False</td>\n",
        "      <td> Nothing is wrong if it feels good</td>\n",
        "      <td>...</td>\n",
        "      <td> 2014-12-03 23:59:58</td>\n",
        "      <td> 0</td>\n",
        "      <td> 0</td>\n",
        "      <td> en</td>\n",
        "      <td> False</td>\n",
        "      <td> False</td>\n",
        "      <td> False</td>\n",
        "      <td> 3.588235</td>\n",
        "      <td> 17</td>\n",
        "      <td>  77</td>\n",
        "    </tr>\n",
        "    <tr>\n",
        "      <th>1</th>\n",
        "      <td> 539932021351407616</td>\n",
        "      <td> romanellimarco1</td>\n",
        "      <td>      Marco </td>\n",
        "      <td> 1117443108</td>\n",
        "      <td>  445</td>\n",
        "      <td>   210</td>\n",
        "      <td> http://pbs.twimg.com/profile_images/5146088708...</td>\n",
        "      <td> False</td>\n",
        "      <td> False</td>\n",
        "      <td>                     #tgod #yngfvs</td>\n",
        "      <td>...</td>\n",
        "      <td> 2014-12-02 23:59:59</td>\n",
        "      <td> 0</td>\n",
        "      <td> 0</td>\n",
        "      <td> en</td>\n",
        "      <td> False</td>\n",
        "      <td>  True</td>\n",
        "      <td> False</td>\n",
        "      <td> 5.083333</td>\n",
        "      <td> 12</td>\n",
        "      <td>  73</td>\n",
        "    </tr>\n",
        "    <tr>\n",
        "      <th>2</th>\n",
        "      <td> 539932021351403520</td>\n",
        "      <td>     Elizabeach_</td>\n",
        "      <td>      lizzie</td>\n",
        "      <td> 2457897885</td>\n",
        "      <td> 2069</td>\n",
        "      <td> 62210</td>\n",
        "      <td> http://pbs.twimg.com/profile_images/5418089092...</td>\n",
        "      <td>  True</td>\n",
        "      <td> False</td>\n",
        "      <td>                                \u2615\ufe0f</td>\n",
        "      <td>...</td>\n",
        "      <td> 2014-12-02 23:59:59</td>\n",
        "      <td> 0</td>\n",
        "      <td> 0</td>\n",
        "      <td> en</td>\n",
        "      <td> False</td>\n",
        "      <td> False</td>\n",
        "      <td>  True</td>\n",
        "      <td> 4.000000</td>\n",
        "      <td>  1</td>\n",
        "      <td>  48</td>\n",
        "    </tr>\n",
        "    <tr>\n",
        "      <th>4</th>\n",
        "      <td> 539932021347213313</td>\n",
        "      <td>     IAMYUNGKANE</td>\n",
        "      <td> Yungdrseuss</td>\n",
        "      <td>  110282804</td>\n",
        "      <td> 2191</td>\n",
        "      <td>    11</td>\n",
        "      <td> http://pbs.twimg.com/profile_images/3788000005...</td>\n",
        "      <td> False</td>\n",
        "      <td> False</td>\n",
        "      <td>                            Mr. XI</td>\n",
        "      <td>...</td>\n",
        "      <td> 2014-12-02 23:59:59</td>\n",
        "      <td> 0</td>\n",
        "      <td> 0</td>\n",
        "      <td> en</td>\n",
        "      <td> False</td>\n",
        "      <td> False</td>\n",
        "      <td>  True</td>\n",
        "      <td> 2.857143</td>\n",
        "      <td>  7</td>\n",
        "      <td>  40</td>\n",
        "    </tr>\n",
        "    <tr>\n",
        "      <th>5</th>\n",
        "      <td> 539932021347213312</td>\n",
        "      <td>       airria_af</td>\n",
        "      <td>     DEC. 19</td>\n",
        "      <td>  442860987</td>\n",
        "      <td>  688</td>\n",
        "      <td>  6286</td>\n",
        "      <td> http://pbs.twimg.com/profile_images/5418470899...</td>\n",
        "      <td> False</td>\n",
        "      <td> False</td>\n",
        "      <td>            SENIORIT15 | FSM | SVM</td>\n",
        "      <td>...</td>\n",
        "      <td> 2014-12-02 23:59:59</td>\n",
        "      <td> 0</td>\n",
        "      <td> 0</td>\n",
        "      <td> en</td>\n",
        "      <td> False</td>\n",
        "      <td> False</td>\n",
        "      <td> False</td>\n",
        "      <td> 3.652174</td>\n",
        "      <td> 23</td>\n",
        "      <td> 107</td>\n",
        "    </tr>\n",
        "  </tbody>\n",
        "</table>\n",
        "<p>5 rows \u00d7 21 columns</p>\n",
        "</div>"
       ],
       "metadata": {},
       "output_type": "pyout",
       "prompt_number": 52,
       "text": [
        "             tweet_id      screen_name         name     user_id  \\\n",
        "0  540294402166767616        whoislest          let   286383919   \n",
        "1  539932021351407616  romanellimarco1       Marco   1117443108   \n",
        "2  539932021351403520      Elizabeach_       lizzie  2457897885   \n",
        "4  539932021347213313      IAMYUNGKANE  Yungdrseuss   110282804   \n",
        "5  539932021347213312        airria_af      DEC. 19   442860987   \n",
        "\n",
        "   followers_count  favourites_count  \\\n",
        "0             1005              4528   \n",
        "1              445               210   \n",
        "2             2069             62210   \n",
        "4             2191                11   \n",
        "5              688              6286   \n",
        "\n",
        "                                            prof_pic default_profile  \\\n",
        "0  http://pbs.twimg.com/profile_images/5421130387...           False   \n",
        "1  http://pbs.twimg.com/profile_images/5146088708...           False   \n",
        "2  http://pbs.twimg.com/profile_images/5418089092...            True   \n",
        "4  http://pbs.twimg.com/profile_images/3788000005...           False   \n",
        "5  http://pbs.twimg.com/profile_images/5418470899...           False   \n",
        "\n",
        "  default_pic                        description  \\\n",
        "0       False  Nothing is wrong if it feels good   \n",
        "1       False                      #tgod #yngfvs   \n",
        "2       False                                 \u2615\ufe0f   \n",
        "4       False                             Mr. XI   \n",
        "5       False             SENIORIT15 | FSM | SVM   \n",
        "\n",
        "                 ...                           created_at favorite_count  \\\n",
        "0                ...                  2014-12-03 23:59:58              0   \n",
        "1                ...                  2014-12-02 23:59:59              0   \n",
        "2                ...                  2014-12-02 23:59:59              0   \n",
        "4                ...                  2014-12-02 23:59:59              0   \n",
        "5                ...                  2014-12-02 23:59:59              0   \n",
        "\n",
        "   retweet_count  lang is_retweet has_link is_reply word_length  word_count  \\\n",
        "0              0    en      False    False    False    3.588235          17   \n",
        "1              0    en      False     True    False    5.083333          12   \n",
        "2              0    en      False    False     True    4.000000           1   \n",
        "4              0    en      False    False     True    2.857143           7   \n",
        "5              0    en      False    False    False    3.652174          23   \n",
        "\n",
        "   char_count  \n",
        "0          77  \n",
        "1          73  \n",
        "2          48  \n",
        "4          40  \n",
        "5         107  \n",
        "\n",
        "[5 rows x 21 columns]"
       ]
      }
     ],
     "prompt_number": 52
    },
    {
     "cell_type": "code",
     "collapsed": false,
     "input": [
      "# Check how long final dataset is, and whether there are duplicate tweets\n",
      "\n",
      "print len(df['tweet_id']) == len(df['tweet_id'].unique())\n",
      "print len(df)"
     ],
     "language": "python",
     "metadata": {},
     "outputs": [
      {
       "output_type": "stream",
       "stream": "stdout",
       "text": [
        "True\n",
        "184843\n"
       ]
      }
     ],
     "prompt_number": 53
    },
    {
     "cell_type": "code",
     "collapsed": false,
     "input": [
      "# make sure all data is correct type\n",
      "\n",
      "df['tweet_id'] = df['tweet_id'].astype(long)\n",
      "df['screen_name'] = df['screen_name'].astype(str)\n",
      "df['name'] = df['name'].astype(str)\n",
      "df['user_id'] = df['user_id'].astype(int)\n",
      "df['followers'] = df['followers_count'].astype(int)\n",
      "df['favorites'] = df['favourites_count'].astype(int)\n",
      "\n",
      "df['favorite_count'] = df['favorite_count'].astype(float)\n",
      "df['retweet_count'] = df['retweet_count'].astype(float)\n",
      "\n",
      "# df['word_length'] = df['word_length'].astype(float)\n",
      "# df['word_count'] = df['word_count'].astype(int)\n",
      "# df['is_retweet'] = df['is_retweet'].astype(bool).astype(int)\n",
      "# df['has_link'] = df['has_link'].astype(bool).astype(int)\n",
      "# df['is_reply'] = df['is_reply'].astype(bool).astype(int)\n",
      "\n",
      "df['default_pic'] = df['default_pic'].map(boolize)\n",
      "df['interaction_rate'] = (df['retweet_count'] + df['favorite_count'])/(df['followers']+1)\n",
      "\n",
      "# make hash count metric\n",
      "\n",
      "hashes = []\n",
      "regex = re.compile('#')\n",
      "for item in df['text']:\n",
      "    hashes.append(len(regex.findall(item)))\n",
      "\n",
      "df['hash_count'] = hashes"
     ],
     "language": "python",
     "metadata": {},
     "outputs": [],
     "prompt_number": 54
    },
    {
     "cell_type": "markdown",
     "metadata": {},
     "source": [
      "The below code allows us to assess whether there's a correlation between time of tweets and number of interactions (maybe, we thought, older tweets would have more interactions).  The fact that this isn't the case (as the correlation plots below show) is itself interesting.  It seems to indicate the vast majority (in fact, the only significant majority) of interactions occur within less than two days of a tweet's creation.  This is why our 5 datasets, all gathered from more than 2 days prior to our collection/analysis, do not differ meaningfully based on the date they were created.  It also illustrates the widely held belief that social media is all about first mover advantages - get to the game late and people will have already seen your competitors and formed their opinions."
     ]
    },
    {
     "cell_type": "code",
     "collapsed": false,
     "input": [
      "# turn the date/time strings into datetime objects, then timedelta objects, then ints\n",
      "\n",
      "import datetime\n",
      "\n",
      "origin = datetime.datetime.strptime(\"14-12-01 23:58:22\", \"%y-%m-%d %H:%M:%S\")\n",
      "\n",
      "def convert_time(time):\n",
      "    new = datetime.datetime.strptime(time[2:], \"%y-%m-%d %H:%M:%S\")\n",
      "    return((new-origin).total_seconds())\n",
      "\n",
      "df.created_at = df.created_at.apply(convert_time)\n",
      "df.created_at"
     ],
     "language": "python",
     "metadata": {},
     "outputs": [
      {
       "metadata": {},
       "output_type": "pyout",
       "prompt_number": 55,
       "text": [
        "0     172896\n",
        "1      86497\n",
        "2      86497\n",
        "4      86497\n",
        "5      86497\n",
        "6      86497\n",
        "7      86497\n",
        "8      86497\n",
        "9      86497\n",
        "10     86497\n",
        "11     86497\n",
        "12     86497\n",
        "13     86497\n",
        "14     86497\n",
        "15     86497\n",
        "...\n",
        "214615    432000\n",
        "214616    432000\n",
        "214617    432000\n",
        "214619    432000\n",
        "214620    432000\n",
        "214621    432000\n",
        "214622    432000\n",
        "214623    432000\n",
        "214624    432000\n",
        "214625    432000\n",
        "214626    432000\n",
        "214627    432000\n",
        "214628    432000\n",
        "214629    432000\n",
        "214630    432000\n",
        "Name: created_at, Length: 184843, dtype: float64"
       ]
      }
     ],
     "prompt_number": 55
    },
    {
     "cell_type": "code",
     "collapsed": false,
     "input": [
      "df.describe()"
     ],
     "language": "python",
     "metadata": {},
     "outputs": [
      {
       "html": [
        "<div style=\"max-height:1000px;max-width:1500px;overflow:auto;\">\n",
        "<table border=\"1\" class=\"dataframe\">\n",
        "  <thead>\n",
        "    <tr style=\"text-align: right;\">\n",
        "      <th></th>\n",
        "      <th>tweet_id</th>\n",
        "      <th>user_id</th>\n",
        "      <th>followers_count</th>\n",
        "      <th>favourites_count</th>\n",
        "      <th>default_profile</th>\n",
        "      <th>default_pic</th>\n",
        "      <th>created_at</th>\n",
        "      <th>favorite_count</th>\n",
        "      <th>retweet_count</th>\n",
        "      <th>is_retweet</th>\n",
        "      <th>has_link</th>\n",
        "      <th>is_reply</th>\n",
        "      <th>word_length</th>\n",
        "      <th>word_count</th>\n",
        "      <th>char_count</th>\n",
        "      <th>followers</th>\n",
        "      <th>favorites</th>\n",
        "      <th>interaction_rate</th>\n",
        "      <th>hash_count</th>\n",
        "    </tr>\n",
        "  </thead>\n",
        "  <tbody>\n",
        "    <tr>\n",
        "      <th>count</th>\n",
        "      <td> 1.848430e+05</td>\n",
        "      <td> 1.848430e+05</td>\n",
        "      <td>   184843.000000</td>\n",
        "      <td> 184843.000000</td>\n",
        "      <td>    184843</td>\n",
        "      <td> 184843</td>\n",
        "      <td> 184843.000000</td>\n",
        "      <td> 184843.000000</td>\n",
        "      <td> 184843.00000</td>\n",
        "      <td> 184843</td>\n",
        "      <td>    184843</td>\n",
        "      <td>    184843</td>\n",
        "      <td> 184843.000000</td>\n",
        "      <td> 184843.000000</td>\n",
        "      <td> 184843.000000</td>\n",
        "      <td>   184843.000000</td>\n",
        "      <td> 184843.000000</td>\n",
        "      <td> 184843.000000</td>\n",
        "      <td> 184843.000000</td>\n",
        "    </tr>\n",
        "    <tr>\n",
        "      <th>mean</th>\n",
        "      <td>-1.591411e+13</td>\n",
        "      <td> 1.109687e+09</td>\n",
        "      <td>     3540.215821</td>\n",
        "      <td>   4617.022262</td>\n",
        "      <td> 0.3112209</td>\n",
        "      <td>      1</td>\n",
        "      <td> 265609.264630</td>\n",
        "      <td>      1.021786</td>\n",
        "      <td>      0.51732</td>\n",
        "      <td>      0</td>\n",
        "      <td> 0.2147498</td>\n",
        "      <td> 0.3277592</td>\n",
        "      <td>      4.703473</td>\n",
        "      <td>      9.962785</td>\n",
        "      <td>     62.386696</td>\n",
        "      <td>     3540.215821</td>\n",
        "      <td>   4617.022262</td>\n",
        "      <td>      0.002499</td>\n",
        "      <td>      0.251219</td>\n",
        "    </tr>\n",
        "    <tr>\n",
        "      <th>std</th>\n",
        "      <td> 5.167363e+14</td>\n",
        "      <td> 9.844419e+08</td>\n",
        "      <td>    83579.666893</td>\n",
        "      <td>  11749.048279</td>\n",
        "      <td> 0.4629942</td>\n",
        "      <td>      0</td>\n",
        "      <td> 123199.779062</td>\n",
        "      <td>     29.550929</td>\n",
        "      <td>     14.73838</td>\n",
        "      <td>      0</td>\n",
        "      <td> 0.4106498</td>\n",
        "      <td> 0.4693978</td>\n",
        "      <td>      1.720985</td>\n",
        "      <td>      6.347124</td>\n",
        "      <td>     36.281959</td>\n",
        "      <td>    83579.666893</td>\n",
        "      <td>  11749.048279</td>\n",
        "      <td>      0.024180</td>\n",
        "      <td>      0.779981</td>\n",
        "    </tr>\n",
        "    <tr>\n",
        "      <th>min</th>\n",
        "      <td> 5.399319e+17</td>\n",
        "      <td> 7.600000e+01</td>\n",
        "      <td>        0.000000</td>\n",
        "      <td>      0.000000</td>\n",
        "      <td>     False</td>\n",
        "      <td>   True</td>\n",
        "      <td>  86464.000000</td>\n",
        "      <td>      0.000000</td>\n",
        "      <td>      0.00000</td>\n",
        "      <td>  False</td>\n",
        "      <td>     False</td>\n",
        "      <td>     False</td>\n",
        "      <td>      1.000000</td>\n",
        "      <td>      1.000000</td>\n",
        "      <td>      1.000000</td>\n",
        "      <td>        0.000000</td>\n",
        "      <td>      0.000000</td>\n",
        "      <td>      0.000000</td>\n",
        "      <td>      0.000000</td>\n",
        "    </tr>\n",
        "    <tr>\n",
        "      <th>25%</th>\n",
        "      <td> 5.402943e+17</td>\n",
        "      <td> 2.702408e+08</td>\n",
        "      <td>      215.000000</td>\n",
        "      <td>    188.000000</td>\n",
        "      <td>         0</td>\n",
        "      <td>      1</td>\n",
        "      <td> 172868.000000</td>\n",
        "      <td>      0.000000</td>\n",
        "      <td>      0.00000</td>\n",
        "      <td>      0</td>\n",
        "      <td>         0</td>\n",
        "      <td>         0</td>\n",
        "      <td>      3.800000</td>\n",
        "      <td>      5.000000</td>\n",
        "      <td>     33.000000</td>\n",
        "      <td>      215.000000</td>\n",
        "      <td>    188.000000</td>\n",
        "      <td>      0.000000</td>\n",
        "      <td>      0.000000</td>\n",
        "    </tr>\n",
        "    <tr>\n",
        "      <th>50%</th>\n",
        "      <td> 5.406567e+17</td>\n",
        "      <td> 6.346402e+08</td>\n",
        "      <td>      511.000000</td>\n",
        "      <td>   1270.000000</td>\n",
        "      <td>         0</td>\n",
        "      <td>      1</td>\n",
        "      <td> 259270.000000</td>\n",
        "      <td>      0.000000</td>\n",
        "      <td>      0.00000</td>\n",
        "      <td>      0</td>\n",
        "      <td>         0</td>\n",
        "      <td>         0</td>\n",
        "      <td>      4.400000</td>\n",
        "      <td>      8.000000</td>\n",
        "      <td>     54.000000</td>\n",
        "      <td>      511.000000</td>\n",
        "      <td>   1270.000000</td>\n",
        "      <td>      0.000000</td>\n",
        "      <td>      0.000000</td>\n",
        "    </tr>\n",
        "    <tr>\n",
        "      <th>75%</th>\n",
        "      <td> 5.410191e+17</td>\n",
        "      <td> 2.198831e+09</td>\n",
        "      <td>     1293.000000</td>\n",
        "      <td>   4730.000000</td>\n",
        "      <td>         1</td>\n",
        "      <td>      1</td>\n",
        "      <td> 345682.000000</td>\n",
        "      <td>      1.000000</td>\n",
        "      <td>      0.00000</td>\n",
        "      <td>      0</td>\n",
        "      <td>         0</td>\n",
        "      <td>         1</td>\n",
        "      <td>      5.181818</td>\n",
        "      <td>     14.000000</td>\n",
        "      <td>     89.000000</td>\n",
        "      <td>     1293.000000</td>\n",
        "      <td>   4730.000000</td>\n",
        "      <td>      0.000809</td>\n",
        "      <td>      0.000000</td>\n",
        "    </tr>\n",
        "    <tr>\n",
        "      <th>max</th>\n",
        "      <td> 5.413816e+17</td>\n",
        "      <td> 2.921094e+09</td>\n",
        "      <td> 13728641.000000</td>\n",
        "      <td> 638383.000000</td>\n",
        "      <td>      True</td>\n",
        "      <td>   True</td>\n",
        "      <td> 432097.000000</td>\n",
        "      <td>   5262.000000</td>\n",
        "      <td>   3613.00000</td>\n",
        "      <td>  False</td>\n",
        "      <td>      True</td>\n",
        "      <td>      True</td>\n",
        "      <td>    138.000000</td>\n",
        "      <td>     44.000000</td>\n",
        "      <td>    140.000000</td>\n",
        "      <td> 13728641.000000</td>\n",
        "      <td> 638383.000000</td>\n",
        "      <td>      7.512821</td>\n",
        "      <td>     17.000000</td>\n",
        "    </tr>\n",
        "  </tbody>\n",
        "</table>\n",
        "</div>"
       ],
       "metadata": {},
       "output_type": "pyout",
       "prompt_number": 56,
       "text": [
        "           tweet_id       user_id  followers_count  favourites_count  \\\n",
        "count  1.848430e+05  1.848430e+05    184843.000000     184843.000000   \n",
        "mean  -1.591411e+13  1.109687e+09      3540.215821       4617.022262   \n",
        "std    5.167363e+14  9.844419e+08     83579.666893      11749.048279   \n",
        "min    5.399319e+17  7.600000e+01         0.000000          0.000000   \n",
        "25%    5.402943e+17  2.702408e+08       215.000000        188.000000   \n",
        "50%    5.406567e+17  6.346402e+08       511.000000       1270.000000   \n",
        "75%    5.410191e+17  2.198831e+09      1293.000000       4730.000000   \n",
        "max    5.413816e+17  2.921094e+09  13728641.000000     638383.000000   \n",
        "\n",
        "      default_profile default_pic     created_at  favorite_count  \\\n",
        "count          184843      184843  184843.000000   184843.000000   \n",
        "mean        0.3112209           1  265609.264630        1.021786   \n",
        "std         0.4629942           0  123199.779062       29.550929   \n",
        "min             False        True   86464.000000        0.000000   \n",
        "25%                 0           1  172868.000000        0.000000   \n",
        "50%                 0           1  259270.000000        0.000000   \n",
        "75%                 1           1  345682.000000        1.000000   \n",
        "max              True        True  432097.000000     5262.000000   \n",
        "\n",
        "       retweet_count is_retweet   has_link   is_reply    word_length  \\\n",
        "count   184843.00000     184843     184843     184843  184843.000000   \n",
        "mean         0.51732          0  0.2147498  0.3277592       4.703473   \n",
        "std         14.73838          0  0.4106498  0.4693978       1.720985   \n",
        "min          0.00000      False      False      False       1.000000   \n",
        "25%          0.00000          0          0          0       3.800000   \n",
        "50%          0.00000          0          0          0       4.400000   \n",
        "75%          0.00000          0          0          1       5.181818   \n",
        "max       3613.00000      False       True       True     138.000000   \n",
        "\n",
        "          word_count     char_count        followers      favorites  \\\n",
        "count  184843.000000  184843.000000    184843.000000  184843.000000   \n",
        "mean        9.962785      62.386696      3540.215821    4617.022262   \n",
        "std         6.347124      36.281959     83579.666893   11749.048279   \n",
        "min         1.000000       1.000000         0.000000       0.000000   \n",
        "25%         5.000000      33.000000       215.000000     188.000000   \n",
        "50%         8.000000      54.000000       511.000000    1270.000000   \n",
        "75%        14.000000      89.000000      1293.000000    4730.000000   \n",
        "max        44.000000     140.000000  13728641.000000  638383.000000   \n",
        "\n",
        "       interaction_rate     hash_count  \n",
        "count     184843.000000  184843.000000  \n",
        "mean           0.002499       0.251219  \n",
        "std            0.024180       0.779981  \n",
        "min            0.000000       0.000000  \n",
        "25%            0.000000       0.000000  \n",
        "50%            0.000000       0.000000  \n",
        "75%            0.000809       0.000000  \n",
        "max            7.512821      17.000000  "
       ]
      }
     ],
     "prompt_number": 56
    },
    {
     "cell_type": "code",
     "collapsed": false,
     "input": [
      "df.small = df[['followers','favorites','default_profile','default_pic','created_at',\n",
      "               'has_link','is_reply','word_length','word_count','hash_count',\n",
      "               'char_count','favorite_count','retweet_count','interaction_rate']]\n",
      "df.small['R+F'] = df.small.retweet_count + df.small.favorite_count"
     ],
     "language": "python",
     "metadata": {},
     "outputs": [],
     "prompt_number": 57
    },
    {
     "cell_type": "code",
     "collapsed": false,
     "input": [
      "df.blah = df.small[df.small.retweet_count>0]\n",
      "print len(df.blah)"
     ],
     "language": "python",
     "metadata": {},
     "outputs": [
      {
       "output_type": "stream",
       "stream": "stdout",
       "text": [
        "23267\n"
       ]
      }
     ],
     "prompt_number": 58
    },
    {
     "cell_type": "code",
     "collapsed": false,
     "input": [
      "# print correlation plot for all the metrics\n",
      "\n",
      "f, ax = plt.subplots(figsize=(10, 10))\n",
      "sns.corrplot(df.small, annot=False, diag_names=False, cmap_range=(-.3, .3))\n",
      "ax.grid(False)\n",
      "plt.show()"
     ],
     "language": "python",
     "metadata": {},
     "outputs": [
      {
       "metadata": {},
       "output_type": "display_data",
       "png": "[encoded data removed]",
       "text": [
        "<matplotlib.figure.Figure at 0x10e88c250>"
       ]
      }
     ],
     "prompt_number": 59
    },
    {
     "cell_type": "code",
     "collapsed": false,
     "input": [
      "# print correlation plot for all the metrics\n",
      "\n",
      "f, ax = plt.subplots(figsize=(10, 10))\n",
      "sns.corrplot(df.blah, annot=False, diag_names=False, cmap_range=(-.3, .3))\n",
      "ax.grid(False)\n",
      "plt.show()"
     ],
     "language": "python",
     "metadata": {},
     "outputs": [
      {
       "metadata": {},
       "output_type": "display_data",
       "png": "[encoded data removed]",
       "text": [
        "<matplotlib.figure.Figure at 0x10dbdea90>"
       ]
      }
     ],
     "prompt_number": 60
    },
    {
     "cell_type": "code",
     "collapsed": false,
     "input": [
      "# Let's see what we're working with\n",
      "\n",
      "f = plt.figure(figsize=(15,5))\n",
      "ax1 = f.add_subplot(131)\n",
      "ax2 = f.add_subplot(132)\n",
      "ax3 = f.add_subplot(133)\n",
      "\n",
      "ax1.hist(df.interaction_rate,log=True,bins=6,color='blue',alpha=.7)\n",
      "ax1.set_title('Distribution of Interaction Rates')\n",
      "ax1.set_xlabel('(# Retweets + # Favorites) / (# Followers + 1)')\n",
      "\n",
      "df.retweet_count.map(binarize).value_counts().plot(kind='bar',ax=ax2,xticks=[0,1,2],colormap='winter',alpha=.7)\n",
      "ax2.set_title('Retweets')\n",
      "ax2.set_xlabel('Binary Yes/No Retweeted')\n",
      "\n",
      "df.favorite_count.map(binarize).value_counts().plot(kind='bar',ax=ax3,xticks=[0,1,2],colormap='winter',alpha=.7)\n",
      "ax3.set_title('Favorites')\n",
      "ax3.set_xlabel('Binary Yes/No Favorited')\n",
      "\n",
      "plt.show()"
     ],
     "language": "python",
     "metadata": {},
     "outputs": [
      {
       "metadata": {},
       "output_type": "display_data",
       "png": "[encoded data removed]",
       "text": [
        "<matplotlib.figure.Figure at 0x110e4d5d0>"
       ]
      }
     ],
     "prompt_number": 61
    },
    {
     "cell_type": "code",
     "collapsed": false,
     "input": [
      "# some interesting regression lines\n",
      "\n",
      "f = plt.figure(figsize=(15,10))\n",
      "ax1 = f.add_subplot(221)\n",
      "ax2 = f.add_subplot(222)\n",
      "\n",
      "sns.set(style=\"darkgrid\")\n",
      "\n",
      "# retweets and favorites are correlated\n",
      "sns.regplot(df.small['retweet_count'],df.small['favorite_count'],ax=ax1)\n",
      "sns.regplot(df.small['followers'],df.small['retweet_count']+df.small['favorite_count'],ax=ax2)\n",
      "ax2.set_ylabel('Retweets + Favorites')"
     ],
     "language": "python",
     "metadata": {},
     "outputs": [
      {
       "metadata": {},
       "output_type": "pyout",
       "prompt_number": 62,
       "text": [
        "<matplotlib.text.Text at 0x11e0e7910>"
       ]
      },
      {
       "metadata": {},
       "output_type": "display_data",
       "png": "[encoded data removed]",
       "text": [
        "<matplotlib.figure.Figure at 0x11dfe2e90>"
       ]
      }
     ],
     "prompt_number": 62
    },
    {
     "cell_type": "code",
     "collapsed": false,
     "input": [
      "Y = df.small['interaction_rate'].map(binarize)\n",
      "X = df.small.drop(['interaction_rate','favorite_count','retweet_count','R+F'],axis=1)\n",
      "\n",
      "print X.shape, Y.shape"
     ],
     "language": "python",
     "metadata": {},
     "outputs": [
      {
       "output_type": "stream",
       "stream": "stdout",
       "text": [
        "(184843, 11) (184843,)\n"
       ]
      }
     ],
     "prompt_number": 66
    },
    {
     "cell_type": "code",
     "collapsed": false,
     "input": [
      "svd = skldecomp.TruncatedSVD(n_components=2)\n",
      "x_2d = svd.fit_transform(X)\n",
      "\n",
      "plt.scatter(x_2d[:,0], x_2d[:,1], c=Y, s = 50, cmap=plt.cm.Paired,alpha=.5)\n",
      "plt.title('SVD Decomposition')\n",
      "plt.show()"
     ],
     "language": "python",
     "metadata": {},
     "outputs": [
      {
       "metadata": {},
       "output_type": "display_data",
       "png": "[encoded data removed]",
       "text": [
        "<matplotlib.figure.Figure at 0x11dfd0f50>"
       ]
      }
     ],
     "prompt_number": 67
    },
    {
     "cell_type": "code",
     "collapsed": false,
     "input": [
      "Y = df.small['interaction_rate'].map(binarize)\n",
      "X = df.small.drop(['interaction_rate','favorite_count','retweet_count','R+F',\n",
      "                   'created_at'],axis=1)\n",
      "\n",
      "svd = skldecomp.TruncatedSVD(n_components=2)\n",
      "x_2d = svd.fit_transform(X)\n",
      "\n",
      "plt.scatter(x_2d[:,0], x_2d[:,1], c=Y, s = 50, cmap=plt.cm.Paired,alpha=.5)\n",
      "plt.title('SVD Decomposition')\n",
      "plt.show()"
     ],
     "language": "python",
     "metadata": {},
     "outputs": [
      {
       "metadata": {},
       "output_type": "display_data",
       "png": "[encoded data removed]",
       "text": [
        "<matplotlib.figure.Figure at 0x11be49610>"
       ]
      }
     ],
     "prompt_number": 68
    },
    {
     "cell_type": "markdown",
     "metadata": {},
     "source": [
      "** Machine Learning **\n",
      "\n",
      "Now we wanted to start seeing if we could learn anything important from our data to predict how many favorites and retweets a certain tweet would get. We used all our metrics from above and removed Favorite Count, Retweet Count, and Interaction Rate from our dataset so we could use them as targets to predict. We decided to look at mainly if the interaction rate was greater than 0, to see if we could predict at all what factors influenced if anyone responded to a tweet."
     ]
    },
    {
     "cell_type": "code",
     "collapsed": false,
     "input": [
      "sm_df = pd.DataFrame.from_csv('small_data.csv')"
     ],
     "language": "python",
     "metadata": {},
     "outputs": [],
     "prompt_number": 2
    },
    {
     "cell_type": "code",
     "collapsed": false,
     "input": [
      "#Getting the target vectors\n",
      "\n",
      "targets = sm_df[['favorite_count','retweet_count']]\n",
      "fav_c = np.array(targets['favorite_count'])\n",
      "rt_c = np.array(targets['retweet_count'])"
     ],
     "language": "python",
     "metadata": {},
     "outputs": [],
     "prompt_number": 3
    },
    {
     "cell_type": "code",
     "collapsed": false,
     "input": [
      "# This function takes in a threshold for minimum number of favoirtes or retweets and will return the class\n",
      "# assignment for each tweet. The output is a Numpy array with binary class assignment. \n",
      "\n",
      "def get_targets(fav_thresh, rt_thresh):\n",
      "    trends, fv, rt = [], [], []\n",
      "    for i in range(len(fav_c)):\n",
      "        fv.append(0 if fav_c[i] < fav_thresh else 1)\n",
      "        rt.append(0 if rt_c[i] < rt_thresh else 1)\n",
      "        trends.append(1 if (fv[i] == 1 or rt[i] == 1) else 0)\n",
      "    return np.array(trends)"
     ],
     "language": "python",
     "metadata": {},
     "outputs": [],
     "prompt_number": 4
    },
    {
     "cell_type": "code",
     "collapsed": false,
     "input": [
      "# Assign X and Y to start learning\n",
      "\n",
      "predict = sm_df.copy()\n",
      "predict = predict.drop(['interaction_rate','favorite_count','retweet_count'],1)\n",
      "X = predict.as_matrix()\n",
      "Y = get_targets(1,1)"
     ],
     "language": "python",
     "metadata": {},
     "outputs": [],
     "prompt_number": 5
    },
    {
     "cell_type": "code",
     "collapsed": false,
     "input": [
      "# Using the methods implemented in PS5, we start by looking at a Random Forest and see how well it performes\n",
      "# based on the number of trees we used.\n",
      "\n",
      "from sklearn.ensemble import RandomForestClassifier\n",
      "from sklearn.cross_validation import cross_val_score\n",
      "\n",
      "def rand_for (num):\n",
      "    clf = RandomForestClassifier(n_estimators=num)\n",
      "    scores = cross_val_score(clf, X, Y, cv=6)\n",
      "    return scores\n",
      "\n",
      "scores = []\n",
      "for i in range(1,16):\n",
      "    scores.append(rand_for(i))"
     ],
     "language": "python",
     "metadata": {},
     "outputs": [],
     "prompt_number": 33
    },
    {
     "cell_type": "code",
     "collapsed": false,
     "input": [
      "plt.figure(figsize=(12,7))\n",
      "sns.boxplot(scores)\n",
      "plt.title(\"Score as a function of trees\")\n",
      "plt.xlabel(\"Number of trees\")\n",
      "plt.ylabel(\"Score\")\n",
      "plt.show()"
     ],
     "language": "python",
     "metadata": {},
     "outputs": [
      {
       "metadata": {},
       "output_type": "display_data",
       "png": "[encoded data removed]",
       "text": [
        "<matplotlib.figure.Figure at 0x12c037310>"
       ]
      }
     ],
     "prompt_number": 34
    },
    {
     "cell_type": "code",
     "collapsed": false,
     "input": [
      "# Lets find the mean of the dataset, aka our score if we predicted no interaction on every tweet. \n",
      "# How does our algorithm compare?\n",
      "\n",
      "x = 0\n",
      "for i in range(len(Y)):\n",
      "    if Y[i] == 0:\n",
      "        x = x+1\n",
      "mean = float(x) / len(Y)\n",
      "print mean * 100, \"% w/o interactions.\"\n",
      "\n",
      "plt.figure(figsize=(12,7))\n",
      "sns.boxplot(scores)\n",
      "plt.axhline(y=mean)\n",
      "plt.title(\"Score as a function of trees\")\n",
      "plt.xlabel(\"Number of trees\")\n",
      "plt.ylabel(\"Score\")\n",
      "plt.show()"
     ],
     "language": "python",
     "metadata": {},
     "outputs": [
      {
       "output_type": "stream",
       "stream": "stdout",
       "text": [
        "67.9352868869 % w/o interactions.\n"
       ]
      },
      {
       "metadata": {},
       "output_type": "display_data",
       "png": "[encoded data removed]",
       "text": [
        "<matplotlib.figure.Figure at 0x12c037590>"
       ]
      }
     ],
     "prompt_number": 54
    },
    {
     "cell_type": "markdown",
     "metadata": {},
     "source": [
      "So a surprising conclusion from this data is the alternating scores based on the number of trees. It appears that an even number of trees produces a higher score than an odd number of trees, although eventually they converge around the mean. The trees don't seem to be able to get above the mean, likely because the data is not at all separable. This means prediction from learned information will often overfit the data and cause bad predictions. As the number of trees increases, the overfitting for each individual tree is smoothed out and we get closer to the mean."
     ]
    },
    {
     "cell_type": "markdown",
     "metadata": {},
     "source": [
      "Below, we will look at our prediciton score when we increase the number of RTs / Favs we are looking at. This is to see if our prediction gets better as we change the parameters of our classes."
     ]
    },
    {
     "cell_type": "code",
     "collapsed": false,
     "input": [
      "def inter_rate (num):\n",
      "    clf = RandomForestClassifier(n_estimators=16)\n",
      "    Y = get_targets(num,num)\n",
      "    scores = cross_val_score(clf, X, Y, cv=6)\n",
      "    return scores\n",
      "\n",
      "scores_ed = []\n",
      "for i in range(1,16):\n",
      "    scores_ed.append(inter_rate(i))"
     ],
     "language": "python",
     "metadata": {},
     "outputs": [],
     "prompt_number": 36
    },
    {
     "cell_type": "code",
     "collapsed": false,
     "input": [
      "plt.figure(figsize=(12,7))\n",
      "sns.boxplot(scores_ed)\n",
      "plt.title(\"Score as a function of favorites and retweets\")\n",
      "plt.xlabel(\"Number of favorites or retweets\")\n",
      "plt.ylabel(\"Score\")\n",
      "plt.show()"
     ],
     "language": "python",
     "metadata": {},
     "outputs": [
      {
       "metadata": {},
       "output_type": "display_data",
       "png": "[encoded data removed]",
       "text": [
        "<matplotlib.figure.Figure at 0x10a5ef3d0>"
       ]
      }
     ],
     "prompt_number": 51
    },
    {
     "cell_type": "markdown",
     "metadata": {},
     "source": [
      "As we can see above, our score increases rapidly as our threshold increases. However, so does our accuracy of simply predicting that the tweet will be below the threshold, as there is a much smaller percentage of tweets that fit the trend. "
     ]
    },
    {
     "cell_type": "code",
     "collapsed": false,
     "input": [
      "Y = get_targets(1,1)\n",
      "clf = RandomForestClassifier(n_estimators=16)\n",
      "clf.fit(X,Y)\n",
      "plt.figure(figsize=(18,7))\n",
      "sns.barplot(predict.columns.values,clf.feature_importances_)\n",
      "plt.xlabel(\"Feature\")\n",
      "plt.ylabel(\"Importance\")\n",
      "plt.title(\"Tweet feature importance\")\n",
      "plt.show()"
     ],
     "language": "python",
     "metadata": {},
     "outputs": [
      {
       "metadata": {},
       "output_type": "display_data",
       "png": "[encoded data removed]",
       "text": [
        "<matplotlib.figure.Figure at 0x10a3d5950>"
       ]
      }
     ],
     "prompt_number": 52
    },
    {
     "cell_type": "markdown",
     "metadata": {},
     "source": [
      "Favorites and followers are the two most predictive features of a tweet! Wow! Everything else seems pretty unpredictive. Lets now use another ML algorithm, Stochastic Gradient Descent. This algorithm is better for handling large datasets and might give us some better results. We will try comparing the number of iterations that the algorithm performs with score to see if we learn anything new!"
     ]
    },
    {
     "cell_type": "code",
     "collapsed": false,
     "input": [
      "from sklearn import linear_model\n",
      "\n",
      "def SGD (num):\n",
      "    clf = linear_model.SGDClassifier(n_iter=num)\n",
      "    scores = cross_val_score(clf, X, Y, cv=10)\n",
      "    return scores\n",
      "\n",
      "sgd_scores = []\n",
      "for i in range(1,26):\n",
      "    sgd_scores.append(SGD(i))"
     ],
     "language": "python",
     "metadata": {},
     "outputs": [],
     "prompt_number": 55
    },
    {
     "cell_type": "code",
     "collapsed": false,
     "input": [
      "plt.figure(figsize=(12,7))\n",
      "sns.boxplot(sgd_scores)\n",
      "plt.axhline(y=mean)\n",
      "plt.title(\"Score as a function of iterations\")\n",
      "plt.xlabel(\"Number of iterations\")\n",
      "plt.ylabel(\"Score\")\n",
      "plt.show()"
     ],
     "language": "python",
     "metadata": {},
     "outputs": [
      {
       "metadata": {},
       "output_type": "display_data",
       "png": "[encoded data removed]",
       "text": [
        "<matplotlib.figure.Figure at 0x10a1fc6d0>"
       ]
      }
     ],
     "prompt_number": 56
    },
    {
     "cell_type": "markdown",
     "metadata": {},
     "source": [
      "Bad news again: can't really do better than the mean. This is likely because there are so many local minima in our dataset that additional iterations don't improve our score. And again, due to the lack of separability of the data, all these local minima are expected and make it very difficult to arrive at a global minimum. "
     ]
    },
    {
     "cell_type": "heading",
     "level": 1,
     "metadata": {},
     "source": [
      "** Conclusion **"
     ]
    },
    {
     "cell_type": "markdown",
     "metadata": {},
     "source": [
      "So, we learned a lot about the data itself in Twitter but not enough to write our own tweets that will become internet famous. The most important factor in a tweet's \"trendability\" is the popularity of your account. In simple terms this means that the more people you interact iwht on Twitter, the more likely your tweets will be popular.\n",
      "\n",
      "We explored our data by using the Twitter API to pull tweets, then formated the data to look for correlation between features, and used machine learning to try and predict how \"trendable\" a tweet would be. Overall, we were not able to predict tweets as well as we hoped, since we wanted to learn how to create our own trendable tweets, but we learned the most important factor in trendability is how many people you are connected with on Twitter. Go figure!\n",
      "\n",
      "We hope you enjoyed the show.\n",
      "\n",
      "Love,\n",
      "\n",
      "The Twitter Bros"
     ]
    },
    {
     "cell_type": "code",
     "collapsed": false,
     "input": [],
     "language": "python",
     "metadata": {},
     "outputs": []
    }
   ],
   "metadata": {}
  }
 ]
}